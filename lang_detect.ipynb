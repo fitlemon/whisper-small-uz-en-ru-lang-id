{
 "cells": [
  {
   "cell_type": "markdown",
   "metadata": {},
   "source": [
    "## Audio Classification for Language Identification\n",
    "#### Objective: Train a model that can classify audio clips into one of three languages: Uzbek, Russian, or English.\n",
    "#### Input: Audio Clip Output: Probabilities for the three classes (uz, ru, en)"
   ]
  },
  {
   "cell_type": "markdown",
   "metadata": {},
   "source": [
    "Author: Davron Ikhmatullaev"
   ]
  },
  {
   "cell_type": "markdown",
   "metadata": {},
   "source": [
    "This is the notebook that used for train the model "
   ]
  },
  {
   "cell_type": "markdown",
   "metadata": {},
   "source": [
    "Necessary libs:"
   ]
  },
  {
   "cell_type": "code",
   "execution_count": null,
   "metadata": {},
   "outputs": [],
   "source": [
    "# !pip install transformers -U\n",
    "# !pip install datasets\n",
    "# !pip install torch\n",
    "# !pip install evaluate>=0.30\n",
    "# !pip install environs\n",
    "# !pip install accelerate -U"
   ]
  },
  {
   "cell_type": "markdown",
   "metadata": {},
   "source": [
    "Checking hardware"
   ]
  },
  {
   "cell_type": "code",
   "execution_count": 1,
   "metadata": {},
   "outputs": [
    {
     "name": "stdout",
     "output_type": "stream",
     "text": [
      "Thu Mar  7 12:13:48 2024       \n",
      "+-----------------------------------------------------------------------------------------+\n",
      "| NVIDIA-SMI 550.54.14              Driver Version: 550.54.14      CUDA Version: 12.4     |\n",
      "|-----------------------------------------+------------------------+----------------------+\n",
      "| GPU  Name                 Persistence-M | Bus-Id          Disp.A | Volatile Uncorr. ECC |\n",
      "| Fan  Temp   Perf          Pwr:Usage/Cap |           Memory-Usage | GPU-Util  Compute M. |\n",
      "|                                         |                        |               MIG M. |\n",
      "|=========================================+========================+======================|\n",
      "|   0  NVIDIA GeForce RTX 3050 ...    Off |   00000000:01:00.0  On |                  N/A |\n",
      "| N/A   39C    P8              4W /   60W |      40MiB /   4096MiB |     38%      Default |\n",
      "|                                         |                        |                  N/A |\n",
      "+-----------------------------------------+------------------------+----------------------+\n",
      "                                                                                         \n",
      "+-----------------------------------------------------------------------------------------+\n",
      "| Processes:                                                                              |\n",
      "|  GPU   GI   CI        PID   Type   Process name                              GPU Memory |\n",
      "|        ID   ID                                                               Usage      |\n",
      "|=========================================================================================|\n",
      "|    0   N/A  N/A      2452      G   /usr/lib/xorg/Xorg                             37MiB |\n",
      "+-----------------------------------------------------------------------------------------+\n"
     ]
    }
   ],
   "source": [
    "gpu_info = !nvidia-smi\n",
    "gpu_info = '\\n'.join(gpu_info)\n",
    "if gpu_info.find('failed') >= 0:\n",
    "  print('Not connected to a GPU')\n",
    "else:\n",
    "  print(gpu_info)"
   ]
  },
  {
   "cell_type": "code",
   "execution_count": 2,
   "metadata": {},
   "outputs": [
    {
     "data": {
      "text/plain": [
       "True"
      ]
     },
     "execution_count": 2,
     "metadata": {},
     "output_type": "execute_result"
    }
   ],
   "source": [
    "import torch\n",
    "\n",
    "torch.cuda.is_available()"
   ]
  },
  {
   "cell_type": "markdown",
   "metadata": {},
   "source": [
    "## Work with Data"
   ]
  },
  {
   "cell_type": "markdown",
   "metadata": {},
   "source": [
    "#### Data loading"
   ]
  },
  {
   "cell_type": "markdown",
   "metadata": {},
   "source": [
    "Load CommonVoice datasets (uzbek, russian, english) from huggingface in the streaming mode."
   ]
  },
  {
   "cell_type": "code",
   "execution_count": 3,
   "metadata": {},
   "outputs": [],
   "source": [
    "from datasets import load_dataset\n",
    "from environs import Env\n",
    "\n",
    "env = Env()\n",
    "env.read_env('./.env')\n",
    "\n",
    "\n",
    "common_voice_train_uz = load_dataset(\"mozilla-foundation/common_voice_16_1\", \"uz\", split='train', trust_remote_code=True, token=env('HUGGING_TOKEN'), streaming=True)\n",
    "common_voice_train_ru = load_dataset(\"mozilla-foundation/common_voice_16_1\", \"ru\", split='train', trust_remote_code=True, token=env('HUGGING_TOKEN'), streaming=True)\n",
    "common_voice_train_en = load_dataset(\"mozilla-foundation/common_voice_16_1\", \"en\", split='train', trust_remote_code=True, token=env('HUGGING_TOKEN'), streaming=True)\n",
    "\n",
    "\n",
    "common_voice_valid_uz = load_dataset(\"mozilla-foundation/common_voice_16_1\", \"uz\", split='validation', trust_remote_code=True, token=env('HUGGING_TOKEN'), streaming=True)\n",
    "common_voice_valid_ru = load_dataset(\"mozilla-foundation/common_voice_16_1\", \"ru\", split='validation', trust_remote_code=True, token=env('HUGGING_TOKEN'), streaming=True)\n",
    "common_voice_valid_en = load_dataset(\"mozilla-foundation/common_voice_16_1\", \"en\", split='validation', trust_remote_code=True, token=env('HUGGING_TOKEN'), streaming=True)\n",
    "\n",
    "common_voice_test_uz = load_dataset(\"mozilla-foundation/common_voice_16_1\", \"uz\", split='test', trust_remote_code=True, token=env('HUGGING_TOKEN'), streaming=True)\n",
    "common_voice_test_ru = load_dataset(\"mozilla-foundation/common_voice_16_1\", \"ru\", split='test', trust_remote_code=True, token=env('HUGGING_TOKEN'), streaming=True)\n",
    "common_voice_test_en = load_dataset(\"mozilla-foundation/common_voice_16_1\", \"en\", split='test', trust_remote_code=True, token=env('HUGGING_TOKEN'), streaming=True)"
   ]
  },
  {
   "cell_type": "markdown",
   "metadata": {},
   "source": [
    "Time for pick size of training, validation and test sets. Let's split as 80-10-10."
   ]
  },
  {
   "cell_type": "code",
   "execution_count": 4,
   "metadata": {},
   "outputs": [],
   "source": [
    "seed = 42\n",
    "\n",
    "train_size = 8000\n",
    "valid_size = 1000\n",
    "\n",
    "common_voice_train_uz = common_voice_train_uz.take(train_size).shuffle(seed=seed, buffer_size=train_size)\n",
    "common_voice_train_ru = common_voice_train_ru.take(train_size).shuffle(seed=seed, buffer_size=train_size)\n",
    "common_voice_train_en = common_voice_train_en.take(train_size).shuffle(seed=seed, buffer_size=train_size)\n",
    "\n",
    "common_voice_valid_uz = common_voice_valid_uz.take(valid_size).shuffle(seed=seed, buffer_size=valid_size)\n",
    "common_voice_valid_ru = common_voice_valid_ru.take(valid_size).shuffle(seed=seed, buffer_size=valid_size)\n",
    "common_voice_valid_en = common_voice_valid_en.take(valid_size).shuffle(seed=seed, buffer_size=valid_size)"
   ]
  },
  {
   "cell_type": "markdown",
   "metadata": {},
   "source": [
    "Concatenate Iterable datasets into one and store train and validation datasets in dict. So final datasets size will be 24000 - 3000 - 3000 rows, for training, validation and testing accordingly."
   ]
  },
  {
   "cell_type": "code",
   "execution_count": 5,
   "metadata": {},
   "outputs": [],
   "source": [
    "from datasets import concatenate_datasets, IterableDatasetDict\n",
    "\n",
    "\n",
    "common_voice = IterableDatasetDict()\n",
    "common_voice['train'] = concatenate_datasets([common_voice_train_uz, common_voice_train_ru, common_voice_train_en])\n",
    "common_voice['eval'] = concatenate_datasets([common_voice_valid_uz, common_voice_valid_ru, common_voice_valid_en])"
   ]
  },
  {
   "cell_type": "markdown",
   "metadata": {},
   "source": [
    "Shuffle concatenated datasets again."
   ]
  },
  {
   "cell_type": "code",
   "execution_count": 6,
   "metadata": {},
   "outputs": [],
   "source": [
    "common_voice['train'] = common_voice['train'].shuffle(seed=seed, buffer_size=train_size * 3)\n",
    "common_voice['eval'] = common_voice['eval'].shuffle(seed=seed, buffer_size=valid_size * 3)"
   ]
  },
  {
   "cell_type": "code",
   "execution_count": 30,
   "metadata": {},
   "outputs": [
    {
     "data": {
      "text/html": [
       "<div>\n",
       "<style scoped>\n",
       "    .dataframe tbody tr th:only-of-type {\n",
       "        vertical-align: middle;\n",
       "    }\n",
       "\n",
       "    .dataframe tbody tr th {\n",
       "        vertical-align: top;\n",
       "    }\n",
       "\n",
       "    .dataframe thead th {\n",
       "        text-align: right;\n",
       "    }\n",
       "</style>\n",
       "<table border=\"1\" class=\"dataframe\">\n",
       "  <thead>\n",
       "    <tr style=\"text-align: right;\">\n",
       "      <th></th>\n",
       "      <th>train</th>\n",
       "      <th>valid</th>\n",
       "      <th>test</th>\n",
       "    </tr>\n",
       "  </thead>\n",
       "  <tbody>\n",
       "    <tr>\n",
       "      <th>Uzbek</th>\n",
       "      <td>8000</td>\n",
       "      <td>1000</td>\n",
       "      <td>1000</td>\n",
       "    </tr>\n",
       "    <tr>\n",
       "      <th>Russian</th>\n",
       "      <td>8000</td>\n",
       "      <td>1000</td>\n",
       "      <td>1000</td>\n",
       "    </tr>\n",
       "    <tr>\n",
       "      <th>English</th>\n",
       "      <td>8000</td>\n",
       "      <td>1000</td>\n",
       "      <td>1000</td>\n",
       "    </tr>\n",
       "    <tr>\n",
       "      <th>Total</th>\n",
       "      <td>24000</td>\n",
       "      <td>3000</td>\n",
       "      <td>3000</td>\n",
       "    </tr>\n",
       "  </tbody>\n",
       "</table>\n",
       "</div>"
      ],
      "text/plain": [
       "         train  valid  test\n",
       "Uzbek     8000   1000  1000\n",
       "Russian   8000   1000  1000\n",
       "English   8000   1000  1000\n",
       "Total    24000   3000  3000"
      ]
     },
     "metadata": {},
     "output_type": "display_data"
    }
   ],
   "source": [
    "import pandas as pd\n",
    "\n",
    "\n",
    "uz_data = [8000, 1000, 1000]\n",
    "ru_data = [8000, 1000, 1000]\n",
    "en_data = [8000, 1000, 1000]\n",
    "total_data = [24000, 3000, 3000]\n",
    "\n",
    "df = pd.DataFrame([uz_data, ru_data, en_data, total_data], columns=['train', 'valid', 'test'], index=['Uzbek', 'Russian', 'English', 'Total'])\n",
    "display(df)"
   ]
  },
  {
   "cell_type": "markdown",
   "metadata": {},
   "source": [
    "#### Data preparation"
   ]
  },
  {
   "cell_type": "markdown",
   "metadata": {},
   "source": [
    "Remove unneсessary columns"
   ]
  },
  {
   "cell_type": "code",
   "execution_count": 7,
   "metadata": {},
   "outputs": [],
   "source": [
    "common_voice = common_voice.remove_columns([\"accent\", 'sentence', \"age\", \"client_id\", \"down_votes\", \"gender\",  \"path\", \"segment\", \"up_votes\"])"
   ]
  },
  {
   "cell_type": "markdown",
   "metadata": {},
   "source": [
    "Checking the consistency of datasets"
   ]
  },
  {
   "cell_type": "code",
   "execution_count": 11,
   "metadata": {},
   "outputs": [
    {
     "name": "stderr",
     "output_type": "stream",
     "text": [
      "Reading metadata...: 12131it [00:01, 10145.47it/s]\n",
      "Reading metadata...: 10198it [00:01, 9365.95it/s]\n",
      "Reading metadata...: 16390it [00:01, 10522.08it/s]\n"
     ]
    },
    {
     "data": {
      "text/plain": [
       "{'audio': {'path': None,\n",
       "  'array': array([0.00000000e+00, 0.00000000e+00, 0.00000000e+00, ...,\n",
       "         6.10351562e-05, 1.22070312e-04, 3.05175781e-05]),\n",
       "  'sampling_rate': 48000},\n",
       " 'locale': 'en',\n",
       " 'variant': ''}"
      ]
     },
     "metadata": {},
     "output_type": "display_data"
    },
    {
     "data": {
      "text/plain": [
       "{'audio': {'path': None,\n",
       "  'array': array([0., 0., 0., ..., 0., 0., 0.]),\n",
       "  'sampling_rate': 48000},\n",
       " 'locale': 'uz',\n",
       " 'variant': ''}"
      ]
     },
     "metadata": {},
     "output_type": "display_data"
    },
    {
     "data": {
      "text/plain": [
       "{'audio': {'path': None,\n",
       "  'array': array([ 0.00000000e+00,  0.00000000e+00,  0.00000000e+00, ...,\n",
       "         -3.05175781e-05, -3.05175781e-05,  0.00000000e+00]),\n",
       "  'sampling_rate': 48000},\n",
       " 'locale': 'ru',\n",
       " 'variant': ''}"
      ]
     },
     "metadata": {},
     "output_type": "display_data"
    },
    {
     "data": {
      "text/plain": [
       "{'audio': {'path': None,\n",
       "  'array': array([ 0.00000000e+00,  0.00000000e+00,  0.00000000e+00, ...,\n",
       "          3.05175781e-05,  0.00000000e+00, -3.05175781e-05]),\n",
       "  'sampling_rate': 48000},\n",
       " 'locale': 'uz',\n",
       " 'variant': ''}"
      ]
     },
     "metadata": {},
     "output_type": "display_data"
    },
    {
     "data": {
      "text/plain": [
       "{'audio': {'path': None,\n",
       "  'array': array([0., 0., 0., ..., 0., 0., 0.]),\n",
       "  'sampling_rate': 48000},\n",
       " 'locale': 'en',\n",
       " 'variant': ''}"
      ]
     },
     "metadata": {},
     "output_type": "display_data"
    }
   ],
   "source": [
    "count = 0 \n",
    "for row in common_voice['eval']:\n",
    "    display(row)\n",
    "    count +=1 \n",
    "    if count > 4:\n",
    "        break"
   ]
  },
  {
   "cell_type": "markdown",
   "metadata": {},
   "source": [
    "Yeah. great. We got shuffled data. But since our input audio is sampled at 48kHz, we need to downsample it to 16kHz prior to passing it to the Whisper feature extractor, 16kHz being the sampling rate expected by the Whisper model:"
   ]
  },
  {
   "cell_type": "code",
   "execution_count": 8,
   "metadata": {},
   "outputs": [],
   "source": [
    "from datasets import Audio\n",
    "\n",
    "common_voice = common_voice.cast_column(\"audio\", Audio(sampling_rate=16000))"
   ]
  },
  {
   "cell_type": "markdown",
   "metadata": {},
   "source": [
    "Check audio rate"
   ]
  },
  {
   "cell_type": "code",
   "execution_count": 28,
   "metadata": {},
   "outputs": [
    {
     "name": "stderr",
     "output_type": "stream",
     "text": [
      "Reading metadata...: 48452it [00:05, 9529.70it/s] \n",
      "Reading metadata...: 26359it [00:03, 8359.81it/s]\n",
      "Reading metadata...: 1090061it [01:24, 12910.07it/s]\n"
     ]
    },
    {
     "data": {
      "text/plain": [
       "{'audio': {'path': None,\n",
       "  'array': array([0., 0., 0., ..., 0., 0., 0.]),\n",
       "  'sampling_rate': 48000},\n",
       " 'locale': 'ru',\n",
       " 'variant': ''}"
      ]
     },
     "execution_count": 28,
     "metadata": {},
     "output_type": "execute_result"
    }
   ],
   "source": [
    "next(iter(common_voice['train']))"
   ]
  },
  {
   "cell_type": "markdown",
   "metadata": {},
   "source": [
    "#### Feature extractor"
   ]
  },
  {
   "cell_type": "markdown",
   "metadata": {},
   "source": [
    "The Whisper feature extractor performs two operations:\n",
    "\n",
    "Pads / truncates the audio inputs to 30s: any audio inputs shorter than 30s are padded to 30s with silence (zeros), and those longer that 30s are truncated to 30s\n",
    "Converts the audio inputs to log-Mel spectrogram input features, a visual representation of the audio and the form of the input expected by the Whisper model"
   ]
  },
  {
   "cell_type": "code",
   "execution_count": 9,
   "metadata": {},
   "outputs": [],
   "source": [
    "from transformers import WhisperFeatureExtractor\n",
    "\n",
    "\n",
    "feature_extractor = WhisperFeatureExtractor.from_pretrained(\"openai/whisper-small\")"
   ]
  },
  {
   "cell_type": "code",
   "execution_count": 10,
   "metadata": {},
   "outputs": [],
   "source": [
    "def prepare_dataset(batch):\n",
    "    # load and resample audio data from 48 to 16kHz\n",
    "    audio = batch[\"audio\"]\n",
    "\n",
    "    # compute log-Mel input features from input audio array \n",
    "    batch[\"input_features\"] = feature_extractor(audio[\"array\"], sampling_rate=audio[\"sampling_rate\"]).input_features[0]\n",
    "\n",
    "    return batch"
   ]
  },
  {
   "cell_type": "code",
   "execution_count": 11,
   "metadata": {},
   "outputs": [],
   "source": [
    "common_voice = common_voice.map(prepare_dataset, batched=False, remove_columns=['audio'])"
   ]
  },
  {
   "cell_type": "markdown",
   "metadata": {},
   "source": [
    "#### Labels encoding"
   ]
  },
  {
   "cell_type": "markdown",
   "metadata": {},
   "source": [
    "Let's encode the output labels (lang-id) to the numbers. We will create two dictionaries to convert id2label and vice versa."
   ]
  },
  {
   "cell_type": "code",
   "execution_count": 12,
   "metadata": {},
   "outputs": [
    {
     "data": {
      "text/plain": [
       "{'uz': 0, 'ru': 1, 'en': 2}"
      ]
     },
     "execution_count": 12,
     "metadata": {},
     "output_type": "execute_result"
    }
   ],
   "source": [
    "languages = ['uz', 'ru', 'en']\n",
    "\n",
    "id2label = {idx: languages[idx] for idx in range(len(languages))}\n",
    "label2id = {v: k for k, v in id2label.items()}\n",
    "label2id"
   ]
  },
  {
   "cell_type": "code",
   "execution_count": 13,
   "metadata": {},
   "outputs": [],
   "source": [
    "def encode_labels(example):\n",
    "    \"\"\"Map string labels to integers.\"\"\"\n",
    "    example[\"labels\"] = label2id[example[\"locale\"]]\n",
    "    return example"
   ]
  },
  {
   "cell_type": "code",
   "execution_count": 14,
   "metadata": {},
   "outputs": [],
   "source": [
    "common_voice = common_voice.map(encode_labels, batched=False)"
   ]
  },
  {
   "cell_type": "markdown",
   "metadata": {},
   "source": [
    "## Training model and Evaluation"
   ]
  },
  {
   "cell_type": "markdown",
   "metadata": {},
   "source": [
    "#### Defining Data collator"
   ]
  },
  {
   "cell_type": "code",
   "execution_count": 15,
   "metadata": {},
   "outputs": [],
   "source": [
    "import torch\n",
    "\n",
    "from dataclasses import dataclass\n",
    "from typing import Any, Dict, List, Union\n",
    "\n",
    "@dataclass\n",
    "class DataCollatorForClassification:\n",
    "    feature_extractor: Any\n",
    "\n",
    "    def __call__(self, features: List[Dict[str, Union[List[int], torch.Tensor]]]) -> Dict[str, torch.Tensor]:\n",
    "        # split inputs and labels\n",
    "        # first treat the audio inputs by simply returning torch tensors\n",
    "        input_features = [{\"input_features\": feature[\"input_features\"]} for feature in features]\n",
    "        batch = self.feature_extractor.pad(input_features, return_tensors=\"pt\")\n",
    "\n",
    "        # # get labels\n",
    "        labels = [feature[\"labels\"] for feature in features]\n",
    "        batch[\"labels\"] = torch.tensor(labels)\n",
    "\n",
    "        return batch"
   ]
  },
  {
   "cell_type": "code",
   "execution_count": 16,
   "metadata": {},
   "outputs": [],
   "source": [
    "data_collator = DataCollatorForClassification(feature_extractor=feature_extractor)"
   ]
  },
  {
   "cell_type": "markdown",
   "metadata": {},
   "source": [
    "#### Load a pre-trained checkpoint of the Whisper small model."
   ]
  },
  {
   "cell_type": "markdown",
   "metadata": {},
   "source": [
    "Loading model and define the config parameters"
   ]
  },
  {
   "cell_type": "code",
   "execution_count": 17,
   "metadata": {},
   "outputs": [
    {
     "name": "stderr",
     "output_type": "stream",
     "text": [
      "Some weights of WhisperForAudioClassification were not initialized from the model checkpoint at openai/whisper-small and are newly initialized: ['model.classifier.bias', 'model.classifier.weight', 'model.projector.bias', 'model.projector.weight']\n",
      "You should probably TRAIN this model on a down-stream task to be able to use it for predictions and inference.\n"
     ]
    }
   ],
   "source": [
    "from transformers import AutoModelForAudioClassification\n",
    "\n",
    "device = \"cuda\" if torch.cuda.is_available() else \"cpu\"\n",
    "model = AutoModelForAudioClassification.from_pretrained(\n",
    "  \"openai/whisper-small\", num_labels=len(languages), id2label=id2label, label2id=label2id\n",
    ").to(device)"
   ]
  },
  {
   "cell_type": "markdown",
   "metadata": {},
   "source": [
    "#### Evaluation metrics"
   ]
  },
  {
   "cell_type": "code",
   "execution_count": 18,
   "metadata": {},
   "outputs": [],
   "source": [
    "import evaluate\n",
    "\n",
    "accuracy = evaluate.load(\"accuracy\")"
   ]
  },
  {
   "cell_type": "code",
   "execution_count": 19,
   "metadata": {},
   "outputs": [],
   "source": [
    "import numpy as np\n",
    "from sklearn.metrics import f1_score, accuracy_score\n",
    "\n",
    "# def compute_metrics(eval_pred):\n",
    "#     predictions = np.argmax(eval_pred.predictions, axis=1)\n",
    "#     return accuracy.compute(predictions=predictions, references=eval_pred.label_ids)\n",
    "\n",
    "def compute_metrics(pred):\n",
    "    \"\"\"Custom metric to be used during training.\"\"\"\n",
    "    labels = pred.label_ids\n",
    "    preds = pred.predictions.argmax(-1)\n",
    "    acc = accuracy_score(labels, preds)  # Accuracy\n",
    "    f1 = f1_score(labels, preds, average=\"weighted\")  # F1-score\n",
    "    return {\n",
    "        \"accuracy\": acc,\n",
    "        \"f1\": f1\n",
    "        }"
   ]
  },
  {
   "cell_type": "markdown",
   "metadata": {},
   "source": [
    "#### Define the Training Configuration"
   ]
  },
  {
   "cell_type": "markdown",
   "metadata": {},
   "source": [
    "It's crucial to choose right numbers of steps for evaluation, saving and max steps. Because we are using iterable dataset, there are some drawbacks, such as Trainer think max steps == 1 epoch. That's why in the reports we will have some mistakes at epoch column. \n",
    "\n",
    "What about batch size?! After some iteration it was calculated, that my GPU (3050Ti Mobile) could handle only 2 batches at the same time. But we can increase batch size by implementing gradient_accumulation_steps. That's why our total batches size will be 8. We should start evaluation after each epoch, thats why 1 epoch will end at batch_size * steps. Our training dataset size is 8000 * 3 = 24000, So we should choose 24000 / 8 = 3000 as the epoch end and evaluation start time. And for 3 epochs cycle max_steps will be 3 * 3000 = 9000"
   ]
  },
  {
   "cell_type": "code",
   "execution_count": 20,
   "metadata": {},
   "outputs": [],
   "source": [
    "from transformers import TrainingArguments\n",
    "\n",
    "\n",
    "training_args = TrainingArguments(\n",
    "    output_dir=\"whisper-small-uz-en-ru-lang-id\",\n",
    "    evaluation_strategy=\"steps\",\n",
    "    save_strategy=\"steps\",\n",
    "    max_steps=9000,\n",
    "    eval_steps=3000,\n",
    "    save_steps=3000,\n",
    "    num_train_epochs=3,\n",
    "    logging_steps=20,\n",
    "    learning_rate=3e-5,\n",
    "    gradient_accumulation_steps=4,\n",
    "    per_device_train_batch_size=2,\n",
    "    per_device_eval_batch_size=2,\n",
    "    warmup_ratio=0.1,\n",
    "    load_best_model_at_end=True,\n",
    "    metric_for_best_model=\"accuracy\",\n",
    "    hub_token=env('HUGGING_WRITE'),\n",
    "    push_to_hub=True,\n",
    "    fp16=True,\n",
    "\n",
    ")\n"
   ]
  },
  {
   "cell_type": "code",
   "execution_count": 21,
   "metadata": {},
   "outputs": [],
   "source": [
    "from transformers import Trainer\n",
    "\n",
    "trainer = Trainer(\n",
    "  model,\n",
    "  training_args,\n",
    "  compute_metrics=compute_metrics,\n",
    "  train_dataset=common_voice['train'],\n",
    "  eval_dataset=common_voice['eval'],\n",
    "  data_collator=data_collator,\n",
    "  tokenizer=feature_extractor,\n",
    ")"
   ]
  },
  {
   "cell_type": "markdown",
   "metadata": {},
   "source": [
    "#### Training"
   ]
  },
  {
   "cell_type": "code",
   "execution_count": 22,
   "metadata": {},
   "outputs": [],
   "source": [
    "torch.cuda.empty_cache()"
   ]
  },
  {
   "cell_type": "code",
   "execution_count": 23,
   "metadata": {},
   "outputs": [
    {
     "name": "stdout",
     "output_type": "stream",
     "text": [
      "Thu Mar  7 12:18:12 2024       \n",
      "+-----------------------------------------------------------------------------------------+\n",
      "| NVIDIA-SMI 550.54.14              Driver Version: 550.54.14      CUDA Version: 12.4     |\n",
      "|-----------------------------------------+------------------------+----------------------+\n",
      "| GPU  Name                 Persistence-M | Bus-Id          Disp.A | Volatile Uncorr. ECC |\n",
      "| Fan  Temp   Perf          Pwr:Usage/Cap |           Memory-Usage | GPU-Util  Compute M. |\n",
      "|                                         |                        |               MIG M. |\n",
      "|=========================================+========================+======================|\n",
      "|   0  NVIDIA GeForce RTX 3050 ...    Off |   00000000:01:00.0  On |                  N/A |\n",
      "| N/A   38C    P8              3W /   60W |     507MiB /   4096MiB |     32%      Default |\n",
      "|                                         |                        |                  N/A |\n",
      "+-----------------------------------------+------------------------+----------------------+\n",
      "                                                                                         \n",
      "+-----------------------------------------------------------------------------------------+\n",
      "| Processes:                                                                              |\n",
      "|  GPU   GI   CI        PID   Type   Process name                              GPU Memory |\n",
      "|        ID   ID                                                               Usage      |\n",
      "|=========================================================================================|\n",
      "|    0   N/A  N/A      2452      G   /usr/lib/xorg/Xorg                             37MiB |\n",
      "|    0   N/A  N/A    170366      C   ...lemon/code/mohirai/.venv/bin/python        462MiB |\n",
      "+-----------------------------------------------------------------------------------------+\n"
     ]
    }
   ],
   "source": [
    "!nvidia-smi"
   ]
  },
  {
   "cell_type": "code",
   "execution_count": 24,
   "metadata": {},
   "outputs": [
    {
     "data": {
      "application/vnd.jupyter.widget-view+json": {
       "model_id": "36e3891b39044ec4b70bc524b820320a",
       "version_major": 2,
       "version_minor": 0
      },
      "text/plain": [
       "  0%|          | 0/9000 [00:00<?, ?it/s]"
      ]
     },
     "metadata": {},
     "output_type": "display_data"
    },
    {
     "name": "stderr",
     "output_type": "stream",
     "text": [
      "Reading metadata...: 48452it [00:10, 4491.57it/s]\n",
      "Reading metadata...: 26359it [00:05, 4982.65it/s]\n",
      "Reading metadata...: 1090061it [03:14, 5594.78it/s] \n"
     ]
    },
    {
     "name": "stdout",
     "output_type": "stream",
     "text": [
      "{'loss': 1.0974, 'grad_norm': 5.340683937072754, 'learning_rate': 6.666666666666667e-07, 'epoch': 0.0}\n",
      "{'loss': 1.1094, 'grad_norm': 3.765772819519043, 'learning_rate': 1.3333333333333334e-06, 'epoch': 0.0}\n",
      "{'loss': 1.0795, 'grad_norm': 6.944335460662842, 'learning_rate': 2e-06, 'epoch': 0.01}\n",
      "{'loss': 1.0149, 'grad_norm': 5.040041446685791, 'learning_rate': 2.666666666666667e-06, 'epoch': 0.01}\n",
      "{'loss': 0.8468, 'grad_norm': 4.4015936851501465, 'learning_rate': 3.3333333333333333e-06, 'epoch': 0.01}\n",
      "{'loss': 0.4921, 'grad_norm': 4.189099311828613, 'learning_rate': 4e-06, 'epoch': 0.01}\n",
      "{'loss': 0.1478, 'grad_norm': 0.9287787675857544, 'learning_rate': 4.666666666666667e-06, 'epoch': 0.02}\n",
      "{'loss': 0.0336, 'grad_norm': 0.272836297750473, 'learning_rate': 5.3e-06, 'epoch': 0.02}\n",
      "{'loss': 0.0099, 'grad_norm': 0.2845810651779175, 'learning_rate': 5.9666666666666666e-06, 'epoch': 0.02}\n",
      "{'loss': 0.0414, 'grad_norm': 0.12218859046697617, 'learning_rate': 6.633333333333334e-06, 'epoch': 0.02}\n",
      "{'loss': 0.0076, 'grad_norm': 0.06497333198785782, 'learning_rate': 7.3e-06, 'epoch': 0.02}\n",
      "{'loss': 0.0397, 'grad_norm': 0.04762278497219086, 'learning_rate': 7.966666666666666e-06, 'epoch': 0.03}\n",
      "{'loss': 0.0434, 'grad_norm': 0.054287854582071304, 'learning_rate': 8.6e-06, 'epoch': 0.03}\n",
      "{'loss': 0.0474, 'grad_norm': 0.047598451375961304, 'learning_rate': 9.266666666666667e-06, 'epoch': 0.03}\n",
      "{'loss': 0.0019, 'grad_norm': 0.03207092359662056, 'learning_rate': 9.933333333333334e-06, 'epoch': 0.03}\n",
      "{'loss': 0.0467, 'grad_norm': 0.026721326634287834, 'learning_rate': 1.06e-05, 'epoch': 0.04}\n",
      "{'loss': 0.0153, 'grad_norm': 0.025668347254395485, 'learning_rate': 1.1266666666666667e-05, 'epoch': 0.04}\n",
      "{'loss': 0.0879, 'grad_norm': 0.23639029264450073, 'learning_rate': 1.1933333333333333e-05, 'epoch': 0.04}\n",
      "{'loss': 0.0029, 'grad_norm': 0.019076984375715256, 'learning_rate': 1.26e-05, 'epoch': 0.04}\n",
      "{'loss': 0.0645, 'grad_norm': inf, 'learning_rate': 1.3233333333333334e-05, 'epoch': 0.04}\n",
      "{'loss': 0.0746, 'grad_norm': 0.017266331240534782, 'learning_rate': 1.39e-05, 'epoch': 0.05}\n",
      "{'loss': 0.0842, 'grad_norm': 0.02667010948061943, 'learning_rate': 1.4566666666666667e-05, 'epoch': 0.05}\n",
      "{'loss': 0.0013, 'grad_norm': 9.535360336303711, 'learning_rate': 1.5233333333333334e-05, 'epoch': 0.05}\n",
      "{'loss': 0.0685, 'grad_norm': 0.01386189367622137, 'learning_rate': 1.59e-05, 'epoch': 0.05}\n",
      "{'loss': 0.1108, 'grad_norm': 0.43365252017974854, 'learning_rate': 1.6566666666666665e-05, 'epoch': 0.06}\n",
      "{'loss': 0.0009, 'grad_norm': 0.021193191409111023, 'learning_rate': 1.7233333333333333e-05, 'epoch': 0.06}\n",
      "{'loss': 0.0626, 'grad_norm': 0.020624196156859398, 'learning_rate': 1.79e-05, 'epoch': 0.06}\n",
      "{'loss': 0.0005, 'grad_norm': 0.012342680245637894, 'learning_rate': 1.856666666666667e-05, 'epoch': 0.06}\n",
      "{'loss': 0.0004, 'grad_norm': 0.009096162393689156, 'learning_rate': 1.9233333333333334e-05, 'epoch': 0.06}\n",
      "{'loss': 0.0003, 'grad_norm': 0.007278031669557095, 'learning_rate': 1.99e-05, 'epoch': 0.07}\n",
      "{'loss': 0.1246, 'grad_norm': 0.00861276499927044, 'learning_rate': 2.0566666666666667e-05, 'epoch': 0.07}\n",
      "{'loss': 0.0901, 'grad_norm': 0.019942719489336014, 'learning_rate': 2.1233333333333332e-05, 'epoch': 0.07}\n",
      "{'loss': 0.0004, 'grad_norm': 0.03698979690670967, 'learning_rate': 2.19e-05, 'epoch': 0.07}\n",
      "{'loss': 0.0359, 'grad_norm': 0.007428438868373632, 'learning_rate': 2.256666666666667e-05, 'epoch': 0.08}\n",
      "{'loss': 0.1372, 'grad_norm': 0.02761586755514145, 'learning_rate': 2.3233333333333337e-05, 'epoch': 0.08}\n",
      "{'loss': 0.0679, 'grad_norm': 0.009996779263019562, 'learning_rate': 2.3866666666666666e-05, 'epoch': 0.08}\n",
      "{'loss': 0.1152, 'grad_norm': 0.008064753375947475, 'learning_rate': 2.4533333333333334e-05, 'epoch': 0.08}\n",
      "{'loss': 0.1406, 'grad_norm': 0.15853288769721985, 'learning_rate': 2.52e-05, 'epoch': 0.08}\n",
      "{'loss': 0.11, 'grad_norm': 8.546516418457031, 'learning_rate': 2.5866666666666667e-05, 'epoch': 0.09}\n",
      "{'loss': 0.0562, 'grad_norm': 6.155367374420166, 'learning_rate': 2.6533333333333336e-05, 'epoch': 0.09}\n",
      "{'loss': 0.1151, 'grad_norm': 423.6247253417969, 'learning_rate': 2.72e-05, 'epoch': 0.09}\n",
      "{'loss': 0.0987, 'grad_norm': 0.018591513857245445, 'learning_rate': 2.7866666666666665e-05, 'epoch': 0.09}\n",
      "{'loss': 0.1051, 'grad_norm': 0.019228078424930573, 'learning_rate': 2.8533333333333333e-05, 'epoch': 0.1}\n",
      "{'loss': 0.0898, 'grad_norm': 7.81341552734375, 'learning_rate': 2.92e-05, 'epoch': 0.1}\n",
      "{'loss': 0.0835, 'grad_norm': 0.028745345771312714, 'learning_rate': 2.9866666666666666e-05, 'epoch': 0.1}\n",
      "{'loss': 0.2801, 'grad_norm': 0.0665016919374466, 'learning_rate': 2.9940740740740743e-05, 'epoch': 0.1}\n",
      "{'loss': 0.0613, 'grad_norm': 0.0388123020529747, 'learning_rate': 2.9866666666666666e-05, 'epoch': 0.1}\n",
      "{'loss': 0.3054, 'grad_norm': 0.022159676998853683, 'learning_rate': 2.9792592592592593e-05, 'epoch': 0.11}\n",
      "{'loss': 0.0153, 'grad_norm': 8.2969388961792, 'learning_rate': 2.971851851851852e-05, 'epoch': 0.11}\n",
      "{'loss': 0.096, 'grad_norm': 0.010796879418194294, 'learning_rate': 2.9644444444444443e-05, 'epoch': 0.11}\n",
      "{'loss': 0.1691, 'grad_norm': 139.70130920410156, 'learning_rate': 2.9570370370370372e-05, 'epoch': 0.11}\n",
      "{'loss': 0.1067, 'grad_norm': 0.014116581529378891, 'learning_rate': 2.94962962962963e-05, 'epoch': 0.12}\n",
      "{'loss': 0.0564, 'grad_norm': 0.01249687559902668, 'learning_rate': 2.9422222222222222e-05, 'epoch': 0.12}\n",
      "{'loss': 0.0735, 'grad_norm': 0.06536895036697388, 'learning_rate': 2.934814814814815e-05, 'epoch': 0.12}\n",
      "{'loss': 0.0611, 'grad_norm': 0.013495131395757198, 'learning_rate': 2.9274074074074075e-05, 'epoch': 0.12}\n",
      "{'loss': 0.0837, 'grad_norm': 0.02567715011537075, 'learning_rate': 2.92e-05, 'epoch': 0.12}\n",
      "{'loss': 0.0469, 'grad_norm': 0.013653543777763844, 'learning_rate': 2.9125925925925925e-05, 'epoch': 0.13}\n",
      "{'loss': 0.0854, 'grad_norm': 0.012100663967430592, 'learning_rate': 2.905185185185185e-05, 'epoch': 0.13}\n",
      "{'loss': 0.0744, 'grad_norm': 0.3318988084793091, 'learning_rate': 2.897777777777778e-05, 'epoch': 0.13}\n",
      "{'loss': 0.0232, 'grad_norm': 0.09253502637147903, 'learning_rate': 2.8903703703703704e-05, 'epoch': 0.13}\n",
      "{'loss': 0.0003, 'grad_norm': 0.004325586371123791, 'learning_rate': 2.882962962962963e-05, 'epoch': 0.14}\n",
      "{'loss': 0.0594, 'grad_norm': 0.005907047539949417, 'learning_rate': 2.8755555555555557e-05, 'epoch': 0.14}\n",
      "{'loss': 0.2495, 'grad_norm': 0.11702558398246765, 'learning_rate': 2.868148148148148e-05, 'epoch': 0.14}\n",
      "{'loss': 0.1684, 'grad_norm': 0.04651431739330292, 'learning_rate': 2.8607407407407407e-05, 'epoch': 0.14}\n",
      "{'loss': 0.0033, 'grad_norm': 0.009216890670359135, 'learning_rate': 2.8533333333333333e-05, 'epoch': 0.14}\n",
      "{'loss': 0.0396, 'grad_norm': 0.007175683043897152, 'learning_rate': 2.845925925925926e-05, 'epoch': 0.15}\n",
      "{'loss': 0.0776, 'grad_norm': 49.228458404541016, 'learning_rate': 2.8385185185185186e-05, 'epoch': 0.15}\n",
      "{'loss': 0.1886, 'grad_norm': 12.004027366638184, 'learning_rate': 2.8311111111111113e-05, 'epoch': 0.15}\n",
      "{'loss': 0.0666, 'grad_norm': 28.042098999023438, 'learning_rate': 2.823703703703704e-05, 'epoch': 0.15}\n",
      "{'loss': 0.0073, 'grad_norm': 0.005461998283863068, 'learning_rate': 2.8162962962962963e-05, 'epoch': 0.16}\n",
      "{'loss': 0.0576, 'grad_norm': 0.00630217557772994, 'learning_rate': 2.808888888888889e-05, 'epoch': 0.16}\n",
      "{'loss': 0.0005, 'grad_norm': 0.0046127475798130035, 'learning_rate': 2.8014814814814816e-05, 'epoch': 0.16}\n",
      "{'loss': 0.1772, 'grad_norm': 132.4585723876953, 'learning_rate': 2.794074074074074e-05, 'epoch': 0.16}\n",
      "{'loss': 0.0736, 'grad_norm': 0.010569721460342407, 'learning_rate': 2.7866666666666665e-05, 'epoch': 0.16}\n",
      "{'loss': 0.1095, 'grad_norm': 0.04149919003248215, 'learning_rate': 2.7792592592592595e-05, 'epoch': 0.17}\n",
      "{'loss': 0.11, 'grad_norm': 0.15070751309394836, 'learning_rate': 2.771851851851852e-05, 'epoch': 0.17}\n",
      "{'loss': 0.0536, 'grad_norm': 0.022641710937023163, 'learning_rate': 2.7644444444444445e-05, 'epoch': 0.17}\n",
      "{'loss': 0.1813, 'grad_norm': 0.14214423298835754, 'learning_rate': 2.757037037037037e-05, 'epoch': 0.17}\n",
      "{'loss': 0.056, 'grad_norm': 0.007895566523075104, 'learning_rate': 2.7496296296296298e-05, 'epoch': 0.18}\n",
      "{'loss': 0.1611, 'grad_norm': 18.49094581604004, 'learning_rate': 2.742222222222222e-05, 'epoch': 0.18}\n",
      "{'loss': 0.1059, 'grad_norm': 0.056056346744298935, 'learning_rate': 2.7348148148148147e-05, 'epoch': 0.18}\n",
      "{'loss': 0.0432, 'grad_norm': 0.012194188311696053, 'learning_rate': 2.7274074074074077e-05, 'epoch': 0.18}\n",
      "{'loss': 0.0812, 'grad_norm': 0.007433773949742317, 'learning_rate': 2.72e-05, 'epoch': 0.18}\n",
      "{'loss': 0.0003, 'grad_norm': 0.006076668854802847, 'learning_rate': 2.7125925925925927e-05, 'epoch': 0.19}\n",
      "{'loss': 0.0322, 'grad_norm': 0.007073111366480589, 'learning_rate': 2.7051851851851853e-05, 'epoch': 0.19}\n",
      "{'loss': 0.0535, 'grad_norm': 0.014115585945546627, 'learning_rate': 2.697777777777778e-05, 'epoch': 0.19}\n",
      "{'loss': 0.0482, 'grad_norm': 0.011612363159656525, 'learning_rate': 2.6903703703703703e-05, 'epoch': 0.19}\n",
      "{'loss': 0.0666, 'grad_norm': 0.21756680309772491, 'learning_rate': 2.682962962962963e-05, 'epoch': 0.2}\n",
      "{'loss': 0.0983, 'grad_norm': 22.38335609436035, 'learning_rate': 2.6755555555555556e-05, 'epoch': 0.2}\n",
      "{'loss': 0.1235, 'grad_norm': 0.008503410033881664, 'learning_rate': 2.6681481481481483e-05, 'epoch': 0.2}\n",
      "{'loss': 0.0563, 'grad_norm': 0.005402449052780867, 'learning_rate': 2.660740740740741e-05, 'epoch': 0.2}\n",
      "{'loss': 0.0593, 'grad_norm': 49.6024169921875, 'learning_rate': 2.6533333333333336e-05, 'epoch': 0.2}\n",
      "{'loss': 0.058, 'grad_norm': 0.01911233924329281, 'learning_rate': 2.645925925925926e-05, 'epoch': 0.21}\n",
      "{'loss': 0.0395, 'grad_norm': 0.007404787000268698, 'learning_rate': 2.6385185185185185e-05, 'epoch': 0.21}\n",
      "{'loss': 0.0251, 'grad_norm': 1.3369956016540527, 'learning_rate': 2.6311111111111112e-05, 'epoch': 0.21}\n",
      "{'loss': 0.1173, 'grad_norm': 0.009700863622128963, 'learning_rate': 2.6237037037037035e-05, 'epoch': 0.21}\n",
      "{'loss': 0.143, 'grad_norm': 0.007637527771294117, 'learning_rate': 2.616296296296296e-05, 'epoch': 0.22}\n",
      "{'loss': 0.0432, 'grad_norm': 0.29423823952674866, 'learning_rate': 2.608888888888889e-05, 'epoch': 0.22}\n",
      "{'loss': 0.049, 'grad_norm': 0.005791366100311279, 'learning_rate': 2.6014814814814818e-05, 'epoch': 0.22}\n",
      "{'loss': 0.0994, 'grad_norm': 0.004829988349229097, 'learning_rate': 2.594074074074074e-05, 'epoch': 0.22}\n",
      "{'loss': 0.0477, 'grad_norm': 0.005664742086082697, 'learning_rate': 2.5866666666666667e-05, 'epoch': 0.22}\n",
      "{'loss': 0.0503, 'grad_norm': 0.08299437165260315, 'learning_rate': 2.5792592592592594e-05, 'epoch': 0.23}\n",
      "{'loss': 0.0702, 'grad_norm': 0.06749774515628815, 'learning_rate': 2.5718518518518517e-05, 'epoch': 0.23}\n",
      "{'loss': 0.026, 'grad_norm': 0.00786837562918663, 'learning_rate': 2.5644444444444444e-05, 'epoch': 0.23}\n",
      "{'loss': 0.0472, 'grad_norm': 0.010042903944849968, 'learning_rate': 2.557037037037037e-05, 'epoch': 0.23}\n",
      "{'loss': 0.0259, 'grad_norm': 0.003475386183708906, 'learning_rate': 2.5496296296296297e-05, 'epoch': 0.24}\n",
      "{'loss': 0.027, 'grad_norm': 0.002566930837929249, 'learning_rate': 2.5422222222222223e-05, 'epoch': 0.24}\n",
      "{'loss': 0.0117, 'grad_norm': 0.0026087979786098003, 'learning_rate': 2.534814814814815e-05, 'epoch': 0.24}\n",
      "{'loss': 0.0611, 'grad_norm': 0.030121607705950737, 'learning_rate': 2.5274074074074076e-05, 'epoch': 0.24}\n",
      "{'loss': 0.1233, 'grad_norm': 0.17944121360778809, 'learning_rate': 2.52e-05, 'epoch': 0.24}\n",
      "{'loss': 0.111, 'grad_norm': 9.531847953796387, 'learning_rate': 2.5125925925925926e-05, 'epoch': 0.25}\n",
      "{'loss': 0.0309, 'grad_norm': 0.013749761506915092, 'learning_rate': 2.5051851851851852e-05, 'epoch': 0.25}\n",
      "{'loss': 0.0179, 'grad_norm': 0.010049212723970413, 'learning_rate': 2.497777777777778e-05, 'epoch': 0.25}\n",
      "{'loss': 0.0174, 'grad_norm': 0.0021955841220915318, 'learning_rate': 2.4903703703703705e-05, 'epoch': 0.25}\n",
      "{'loss': 0.035, 'grad_norm': 0.003465180518105626, 'learning_rate': 2.4829629629629632e-05, 'epoch': 0.26}\n",
      "{'loss': 0.0001, 'grad_norm': 0.0025676588993519545, 'learning_rate': 2.4755555555555555e-05, 'epoch': 0.26}\n",
      "{'loss': 0.0215, 'grad_norm': 163.95301818847656, 'learning_rate': 2.468148148148148e-05, 'epoch': 0.26}\n",
      "{'loss': 0.1055, 'grad_norm': 8.608095169067383, 'learning_rate': 2.4607407407407408e-05, 'epoch': 0.26}\n",
      "{'loss': 0.0005, 'grad_norm': 0.010949620045721531, 'learning_rate': 2.4533333333333334e-05, 'epoch': 0.26}\n",
      "{'loss': 0.009, 'grad_norm': 0.023090707138180733, 'learning_rate': 2.4459259259259258e-05, 'epoch': 0.27}\n",
      "{'loss': 0.0715, 'grad_norm': 0.0034408490173518658, 'learning_rate': 2.4385185185185188e-05, 'epoch': 0.27}\n",
      "{'loss': 0.1746, 'grad_norm': 0.2604517340660095, 'learning_rate': 2.4311111111111114e-05, 'epoch': 0.27}\n",
      "{'loss': 0.0315, 'grad_norm': 0.014396918937563896, 'learning_rate': 2.4237037037037037e-05, 'epoch': 0.27}\n",
      "{'loss': 0.0098, 'grad_norm': 0.006432210095226765, 'learning_rate': 2.4162962962962964e-05, 'epoch': 0.28}\n",
      "{'loss': 0.1, 'grad_norm': 0.02098773419857025, 'learning_rate': 2.408888888888889e-05, 'epoch': 0.28}\n",
      "{'loss': 0.0569, 'grad_norm': 0.08859249204397202, 'learning_rate': 2.4014814814814813e-05, 'epoch': 0.28}\n",
      "{'loss': 0.0006, 'grad_norm': 0.005772882606834173, 'learning_rate': 2.394074074074074e-05, 'epoch': 0.28}\n",
      "{'loss': 0.0024, 'grad_norm': 0.0046539600007236, 'learning_rate': 2.3866666666666666e-05, 'epoch': 0.28}\n",
      "{'loss': 0.043, 'grad_norm': 0.012399648316204548, 'learning_rate': 2.3792592592592596e-05, 'epoch': 0.29}\n",
      "{'loss': 0.0054, 'grad_norm': 0.005612627137452364, 'learning_rate': 2.371851851851852e-05, 'epoch': 0.29}\n",
      "{'loss': 0.0939, 'grad_norm': 8.274742126464844, 'learning_rate': 2.3644444444444446e-05, 'epoch': 0.29}\n",
      "{'loss': 0.0282, 'grad_norm': 0.05383593216538429, 'learning_rate': 2.3570370370370372e-05, 'epoch': 0.29}\n",
      "{'loss': 0.0952, 'grad_norm': 0.005355933681130409, 'learning_rate': 2.3496296296296295e-05, 'epoch': 0.3}\n",
      "{'loss': 0.0002, 'grad_norm': 0.005347133614122868, 'learning_rate': 2.3422222222222222e-05, 'epoch': 0.3}\n",
      "{'loss': 0.078, 'grad_norm': 0.006438690237700939, 'learning_rate': 2.334814814814815e-05, 'epoch': 0.3}\n",
      "{'loss': 0.0916, 'grad_norm': 0.15151722729206085, 'learning_rate': 2.327407407407407e-05, 'epoch': 0.3}\n",
      "{'loss': 0.0437, 'grad_norm': 0.006459504831582308, 'learning_rate': 2.32e-05, 'epoch': 0.3}\n",
      "{'loss': 0.0452, 'grad_norm': 0.008629536256194115, 'learning_rate': 2.3125925925925928e-05, 'epoch': 0.31}\n",
      "{'loss': 0.0431, 'grad_norm': 0.0028686600271612406, 'learning_rate': 2.3051851851851855e-05, 'epoch': 0.31}\n",
      "{'loss': 0.0844, 'grad_norm': 0.00517274672165513, 'learning_rate': 2.298148148148148e-05, 'epoch': 0.31}\n",
      "{'loss': 0.0753, 'grad_norm': 46.8453254699707, 'learning_rate': 2.290740740740741e-05, 'epoch': 0.31}\n",
      "{'loss': 0.0407, 'grad_norm': 0.003554962109774351, 'learning_rate': 2.2833333333333334e-05, 'epoch': 0.32}\n",
      "{'loss': 0.158, 'grad_norm': 2.000528573989868, 'learning_rate': 2.275925925925926e-05, 'epoch': 0.32}\n",
      "{'loss': 0.0014, 'grad_norm': 0.010878250002861023, 'learning_rate': 2.2685185185185187e-05, 'epoch': 0.32}\n",
      "{'loss': 0.0389, 'grad_norm': 0.002700288314372301, 'learning_rate': 2.261111111111111e-05, 'epoch': 0.32}\n",
      "{'loss': 0.0096, 'grad_norm': 0.00612425385043025, 'learning_rate': 2.2537037037037036e-05, 'epoch': 0.32}\n",
      "{'loss': 0.0259, 'grad_norm': 0.001854522037319839, 'learning_rate': 2.2462962962962963e-05, 'epoch': 0.33}\n",
      "{'loss': 0.0001, 'grad_norm': 0.0016700943233445287, 'learning_rate': 2.238888888888889e-05, 'epoch': 0.33}\n",
      "{'loss': 0.0402, 'grad_norm': 0.0018333789194002748, 'learning_rate': 2.2314814814814816e-05, 'epoch': 0.33}\n",
      "{'loss': 0.0252, 'grad_norm': 0.07286199182271957, 'learning_rate': 2.2240740740740743e-05, 'epoch': 0.33}\n"
     ]
    },
    {
     "name": "stderr",
     "output_type": "stream",
     "text": [
      "Reading metadata...: 12131it [00:01, 9400.67it/s]\n",
      "Reading metadata...: 10198it [00:01, 9893.43it/s]\n",
      "Reading metadata...: 16390it [00:01, 10250.75it/s]\n",
      "Some non-default generation parameters are set in the model config. These should go into a GenerationConfig file (https://huggingface.co/docs/transformers/generation_strategies#save-a-custom-decoding-strategy-with-your-model) instead. This warning will be raised to an exception in v4.41.\n",
      "Non-default generation parameters: {'max_length': 448, 'suppress_tokens': [1, 2, 7, 8, 9, 10, 14, 25, 26, 27, 28, 29, 31, 58, 59, 60, 61, 62, 63, 90, 91, 92, 93, 359, 503, 522, 542, 873, 893, 902, 918, 922, 931, 1350, 1853, 1982, 2460, 2627, 3246, 3253, 3268, 3536, 3846, 3961, 4183, 4667, 6585, 6647, 7273, 9061, 9383, 10428, 10929, 11938, 12033, 12331, 12562, 13793, 14157, 14635, 15265, 15618, 16553, 16604, 18362, 18956, 20075, 21675, 22520, 26130, 26161, 26435, 28279, 29464, 31650, 32302, 32470, 36865, 42863, 47425, 49870, 50254, 50258, 50360, 50361, 50362], 'begin_suppress_tokens': [220, 50257]}\n"
     ]
    },
    {
     "name": "stdout",
     "output_type": "stream",
     "text": [
      "{'eval_loss': 0.30894947052001953, 'eval_accuracy': 0.953, 'eval_f1': 0.9525327272973996, 'eval_runtime': 186.413, 'eval_samples_per_second': 16.093, 'eval_steps_per_second': 8.047, 'epoch': 0.33}\n"
     ]
    },
    {
     "name": "stderr",
     "output_type": "stream",
     "text": [
      "Reading metadata...: 48452it [00:04, 9842.83it/s] \n",
      "Reading metadata...: 1090061it [01:14, 14561.49it/s]\n",
      "Reading metadata...: 26359it [00:04, 5436.06it/s]\n"
     ]
    },
    {
     "name": "stdout",
     "output_type": "stream",
     "text": [
      "{'loss': 0.0354, 'grad_norm': 0.001491660950705409, 'learning_rate': 2.216666666666667e-05, 'epoch': 1.0}\n",
      "{'loss': 0.0403, 'grad_norm': 0.0014618218410760164, 'learning_rate': 2.2092592592592592e-05, 'epoch': 1.0}\n",
      "{'loss': 0.0001, 'grad_norm': 0.0015588352689519525, 'learning_rate': 2.201851851851852e-05, 'epoch': 1.01}\n",
      "{'loss': 0.1415, 'grad_norm': 0.0020763033535331488, 'learning_rate': 2.1944444444444445e-05, 'epoch': 1.01}\n",
      "{'loss': 0.0117, 'grad_norm': 0.1430654376745224, 'learning_rate': 2.1870370370370368e-05, 'epoch': 1.01}\n",
      "{'loss': 0.0225, 'grad_norm': 0.002860705368220806, 'learning_rate': 2.1796296296296295e-05, 'epoch': 1.01}\n",
      "{'loss': 0.0461, 'grad_norm': 0.00200828118249774, 'learning_rate': 2.1722222222222225e-05, 'epoch': 1.02}\n",
      "{'loss': 0.0377, 'grad_norm': 0.002102539176121354, 'learning_rate': 2.164814814814815e-05, 'epoch': 1.02}\n",
      "{'loss': 0.0002, 'grad_norm': 0.003168644616380334, 'learning_rate': 2.1574074074074074e-05, 'epoch': 1.02}\n",
      "{'loss': 0.0001, 'grad_norm': 0.0017153240041807294, 'learning_rate': 2.15e-05, 'epoch': 1.02}\n",
      "{'loss': 0.0011, 'grad_norm': 0.0018576458096504211, 'learning_rate': 2.1425925925925927e-05, 'epoch': 1.02}\n",
      "{'loss': 0.0642, 'grad_norm': 0.0020780323538929224, 'learning_rate': 2.135185185185185e-05, 'epoch': 1.03}\n",
      "{'loss': 0.0001, 'grad_norm': 0.003386670956388116, 'learning_rate': 2.1277777777777777e-05, 'epoch': 1.03}\n",
      "{'loss': 0.0035, 'grad_norm': 0.031053097918629646, 'learning_rate': 2.1203703703703703e-05, 'epoch': 1.03}\n",
      "{'loss': 0.058, 'grad_norm': 0.059259410947561264, 'learning_rate': 2.112962962962963e-05, 'epoch': 1.03}\n",
      "{'loss': 0.0001, 'grad_norm': 0.0012998461024835706, 'learning_rate': 2.1055555555555556e-05, 'epoch': 1.04}\n",
      "{'loss': 0.0007, 'grad_norm': 6.587835788726807, 'learning_rate': 2.0981481481481483e-05, 'epoch': 1.04}\n",
      "{'loss': 0.0302, 'grad_norm': 0.0010955468751490116, 'learning_rate': 2.090740740740741e-05, 'epoch': 1.04}\n",
      "{'loss': 0.1018, 'grad_norm': 0.01164061389863491, 'learning_rate': 2.0833333333333333e-05, 'epoch': 1.04}\n",
      "{'loss': 0.0005, 'grad_norm': 0.009983526542782784, 'learning_rate': 2.075925925925926e-05, 'epoch': 1.04}\n",
      "{'loss': 0.0002, 'grad_norm': 0.0018423811998218298, 'learning_rate': 2.0685185185185186e-05, 'epoch': 1.05}\n",
      "{'loss': 0.0678, 'grad_norm': 0.0038735815323889256, 'learning_rate': 2.0611111111111112e-05, 'epoch': 1.05}\n",
      "{'loss': 0.0004, 'grad_norm': 0.016956036910414696, 'learning_rate': 2.053703703703704e-05, 'epoch': 1.05}\n",
      "{'loss': 0.0002, 'grad_norm': 0.0050891912542283535, 'learning_rate': 2.0462962962962965e-05, 'epoch': 1.05}\n",
      "{'loss': 0.0762, 'grad_norm': 23.196842193603516, 'learning_rate': 2.038888888888889e-05, 'epoch': 1.06}\n",
      "{'loss': 0.0395, 'grad_norm': 0.0029633319936692715, 'learning_rate': 2.0314814814814815e-05, 'epoch': 1.06}\n",
      "{'loss': 0.0001, 'grad_norm': 0.003922028001397848, 'learning_rate': 2.024074074074074e-05, 'epoch': 1.06}\n",
      "{'loss': 0.0397, 'grad_norm': 0.0015544951893389225, 'learning_rate': 2.0166666666666668e-05, 'epoch': 1.06}\n",
      "{'loss': 0.0007, 'grad_norm': 0.007373743690550327, 'learning_rate': 2.009259259259259e-05, 'epoch': 1.06}\n",
      "{'loss': 0.0001, 'grad_norm': 0.0016317981062456965, 'learning_rate': 2.001851851851852e-05, 'epoch': 1.07}\n",
      "{'loss': 0.0576, 'grad_norm': 0.02466576360166073, 'learning_rate': 1.9944444444444447e-05, 'epoch': 1.07}\n",
      "{'loss': 0.0001, 'grad_norm': 0.0027967162895947695, 'learning_rate': 1.987037037037037e-05, 'epoch': 1.07}\n",
      "{'loss': 0.0002, 'grad_norm': 0.0012882613809779286, 'learning_rate': 1.9796296296296297e-05, 'epoch': 1.07}\n",
      "{'loss': 0.0828, 'grad_norm': 0.0014677186263725162, 'learning_rate': 1.9722222222222224e-05, 'epoch': 1.08}\n",
      "{'loss': 0.098, 'grad_norm': 0.005931223277002573, 'learning_rate': 1.9648148148148147e-05, 'epoch': 1.08}\n",
      "{'loss': 0.0161, 'grad_norm': 0.0031399240251630545, 'learning_rate': 1.9574074074074073e-05, 'epoch': 1.08}\n",
      "{'loss': 0.0043, 'grad_norm': 0.20943354070186615, 'learning_rate': 1.95e-05, 'epoch': 1.08}\n",
      "{'loss': 0.0026, 'grad_norm': 0.002253766870126128, 'learning_rate': 1.9425925925925926e-05, 'epoch': 1.08}\n",
      "{'loss': 0.0669, 'grad_norm': 0.006957489997148514, 'learning_rate': 1.9351851851851853e-05, 'epoch': 1.09}\n",
      "{'loss': 0.0512, 'grad_norm': 0.028030795976519585, 'learning_rate': 1.927777777777778e-05, 'epoch': 1.09}\n",
      "{'loss': 0.0002, 'grad_norm': 0.010708866640925407, 'learning_rate': 1.9203703703703706e-05, 'epoch': 1.09}\n",
      "{'loss': 0.0003, 'grad_norm': 0.001583973877131939, 'learning_rate': 1.912962962962963e-05, 'epoch': 1.09}\n",
      "{'loss': 0.0002, 'grad_norm': 0.004106153268367052, 'learning_rate': 1.9055555555555555e-05, 'epoch': 1.1}\n",
      "{'loss': 0.0, 'grad_norm': 0.0009417420369572937, 'learning_rate': 1.8981481481481482e-05, 'epoch': 1.1}\n",
      "{'loss': 0.0001, 'grad_norm': 0.0013257332611829042, 'learning_rate': 1.8907407407407405e-05, 'epoch': 1.1}\n",
      "{'loss': 0.0, 'grad_norm': 0.0009606232633814216, 'learning_rate': 1.8833333333333335e-05, 'epoch': 1.1}\n",
      "{'loss': 0.0495, 'grad_norm': 0.0008627107599750161, 'learning_rate': 1.875925925925926e-05, 'epoch': 1.1}\n",
      "{'loss': 0.0003, 'grad_norm': 0.0011938888346776366, 'learning_rate': 1.8685185185185184e-05, 'epoch': 1.11}\n",
      "{'loss': 0.0001, 'grad_norm': 0.0012261747615411878, 'learning_rate': 1.861111111111111e-05, 'epoch': 1.11}\n",
      "{'loss': 0.0001, 'grad_norm': 0.0009264818509109318, 'learning_rate': 1.8537037037037037e-05, 'epoch': 1.11}\n",
      "{'loss': 0.0, 'grad_norm': 0.0014578528935089707, 'learning_rate': 1.8462962962962964e-05, 'epoch': 1.11}\n",
      "{'loss': 0.0001, 'grad_norm': 0.054869040846824646, 'learning_rate': 1.8388888888888887e-05, 'epoch': 1.12}\n",
      "{'loss': 0.0534, 'grad_norm': 0.009724531322717667, 'learning_rate': 1.8314814814814817e-05, 'epoch': 1.12}\n",
      "{'loss': 0.0001, 'grad_norm': 0.02145974338054657, 'learning_rate': 1.8240740740740744e-05, 'epoch': 1.12}\n",
      "{'loss': 0.0002, 'grad_norm': 0.0023194740060716867, 'learning_rate': 1.8166666666666667e-05, 'epoch': 1.12}\n",
      "{'loss': 0.0566, 'grad_norm': 0.024984564632177353, 'learning_rate': 1.8092592592592593e-05, 'epoch': 1.12}\n",
      "{'loss': 0.0346, 'grad_norm': 0.0016775905387476087, 'learning_rate': 1.801851851851852e-05, 'epoch': 1.13}\n",
      "{'loss': 0.0152, 'grad_norm': 0.002434579422697425, 'learning_rate': 1.7944444444444443e-05, 'epoch': 1.13}\n",
      "{'loss': 0.0001, 'grad_norm': 0.0012291066814213991, 'learning_rate': 1.787037037037037e-05, 'epoch': 1.13}\n",
      "{'loss': 0.0001, 'grad_norm': 0.0009863568702712655, 'learning_rate': 1.7796296296296296e-05, 'epoch': 1.13}\n",
      "{'loss': 0.0385, 'grad_norm': 0.003525026608258486, 'learning_rate': 1.7722222222222226e-05, 'epoch': 1.14}\n",
      "{'loss': 0.0002, 'grad_norm': 0.0012884399620816112, 'learning_rate': 1.764814814814815e-05, 'epoch': 1.14}\n",
      "{'loss': 0.0001, 'grad_norm': 0.0012158637400716543, 'learning_rate': 1.7574074074074075e-05, 'epoch': 1.14}\n",
      "{'loss': 0.0, 'grad_norm': 0.0006709913141094148, 'learning_rate': 1.7500000000000002e-05, 'epoch': 1.14}\n",
      "{'loss': 0.0001, 'grad_norm': 0.0019332511583343148, 'learning_rate': 1.7425925925925925e-05, 'epoch': 1.14}\n",
      "{'loss': 0.0003, 'grad_norm': 0.0010974383912980556, 'learning_rate': 1.735185185185185e-05, 'epoch': 1.15}\n",
      "{'loss': 0.003, 'grad_norm': 0.0012371913762763143, 'learning_rate': 1.7277777777777778e-05, 'epoch': 1.15}\n",
      "{'loss': 0.0254, 'grad_norm': 0.003076352411881089, 'learning_rate': 1.72037037037037e-05, 'epoch': 1.15}\n",
      "{'loss': 0.0001, 'grad_norm': 0.0007488097180612385, 'learning_rate': 1.712962962962963e-05, 'epoch': 1.15}\n",
      "{'loss': 0.0054, 'grad_norm': 0.0009087610524147749, 'learning_rate': 1.7055555555555558e-05, 'epoch': 1.16}\n",
      "{'loss': 0.0, 'grad_norm': 0.0005903010023757815, 'learning_rate': 1.6981481481481484e-05, 'epoch': 1.16}\n",
      "{'loss': 0.0, 'grad_norm': 0.0005898569943383336, 'learning_rate': 1.6907407407407407e-05, 'epoch': 1.16}\n",
      "{'loss': 0.0, 'grad_norm': 0.0011606526095420122, 'learning_rate': 1.6833333333333334e-05, 'epoch': 1.16}\n",
      "{'loss': 0.0, 'grad_norm': 0.0007477778708562255, 'learning_rate': 1.675925925925926e-05, 'epoch': 1.16}\n",
      "{'loss': 0.0, 'grad_norm': 0.0009777427185326815, 'learning_rate': 1.6685185185185183e-05, 'epoch': 1.17}\n",
      "{'loss': 0.0584, 'grad_norm': 0.0006698628421872854, 'learning_rate': 1.661111111111111e-05, 'epoch': 1.17}\n",
      "{'loss': 0.001, 'grad_norm': 0.001533126924186945, 'learning_rate': 1.653703703703704e-05, 'epoch': 1.17}\n",
      "{'loss': 0.0, 'grad_norm': 0.0006417568074539304, 'learning_rate': 1.6462962962962963e-05, 'epoch': 1.17}\n",
      "{'loss': 0.0533, 'grad_norm': 0.0008488640887662768, 'learning_rate': 1.638888888888889e-05, 'epoch': 1.18}\n",
      "{'loss': 0.0001, 'grad_norm': 0.011154250241816044, 'learning_rate': 1.6314814814814816e-05, 'epoch': 1.18}\n",
      "{'loss': 0.0485, 'grad_norm': 0.0030691800639033318, 'learning_rate': 1.6240740740740742e-05, 'epoch': 1.18}\n",
      "{'loss': 0.0, 'grad_norm': 0.0006553560961037874, 'learning_rate': 1.6166666666666665e-05, 'epoch': 1.18}\n",
      "{'loss': 0.0855, 'grad_norm': 0.029810436069965363, 'learning_rate': 1.6092592592592592e-05, 'epoch': 1.18}\n",
      "{'loss': 0.0068, 'grad_norm': 0.0017750783590599895, 'learning_rate': 1.601851851851852e-05, 'epoch': 1.19}\n",
      "{'loss': 0.0531, 'grad_norm': 0.002239046385511756, 'learning_rate': 1.5944444444444445e-05, 'epoch': 1.19}\n",
      "{'loss': 0.0001, 'grad_norm': 0.021062055602669716, 'learning_rate': 1.587037037037037e-05, 'epoch': 1.19}\n",
      "{'loss': 0.0025, 'grad_norm': 0.0019181242678314447, 'learning_rate': 1.5796296296296298e-05, 'epoch': 1.19}\n",
      "{'loss': 0.0548, 'grad_norm': 0.001808159169740975, 'learning_rate': 1.572222222222222e-05, 'epoch': 1.2}\n",
      "{'loss': 0.0005, 'grad_norm': 0.0017846358241513371, 'learning_rate': 1.5648148148148148e-05, 'epoch': 1.2}\n",
      "{'loss': 0.0001, 'grad_norm': 0.0022813817486166954, 'learning_rate': 1.5574074074074074e-05, 'epoch': 1.2}\n",
      "{'loss': 0.0427, 'grad_norm': 0.0017446203855797648, 'learning_rate': 1.55e-05, 'epoch': 1.2}\n",
      "{'loss': 0.0267, 'grad_norm': 0.0014630478108301759, 'learning_rate': 1.5425925925925927e-05, 'epoch': 1.2}\n",
      "{'loss': 0.0002, 'grad_norm': 0.0013536985497921705, 'learning_rate': 1.5351851851851854e-05, 'epoch': 1.21}\n",
      "{'loss': 0.0, 'grad_norm': 0.0013895691372454166, 'learning_rate': 1.527777777777778e-05, 'epoch': 1.21}\n",
      "{'loss': 0.0001, 'grad_norm': 0.0013729637721553445, 'learning_rate': 1.5203703703703703e-05, 'epoch': 1.21}\n",
      "{'loss': 0.0001, 'grad_norm': 0.0007571353344246745, 'learning_rate': 1.512962962962963e-05, 'epoch': 1.21}\n",
      "{'loss': 0.0, 'grad_norm': 0.001508797868154943, 'learning_rate': 1.5055555555555556e-05, 'epoch': 1.22}\n",
      "{'loss': 0.0, 'grad_norm': 0.0008247780497185886, 'learning_rate': 1.4981481481481483e-05, 'epoch': 1.22}\n",
      "{'loss': 0.0001, 'grad_norm': 0.0009039477445185184, 'learning_rate': 1.4907407407407408e-05, 'epoch': 1.22}\n",
      "{'loss': 0.0376, 'grad_norm': 0.0037789084017276764, 'learning_rate': 1.4833333333333334e-05, 'epoch': 1.22}\n",
      "{'loss': 0.0526, 'grad_norm': 0.0006976640434004366, 'learning_rate': 1.4759259259259259e-05, 'epoch': 1.22}\n",
      "{'loss': 0.0001, 'grad_norm': 0.0013339263387024403, 'learning_rate': 1.4685185185185186e-05, 'epoch': 1.23}\n",
      "{'loss': 0.038, 'grad_norm': 0.0007673126528970897, 'learning_rate': 1.4611111111111112e-05, 'epoch': 1.23}\n",
      "{'loss': 0.0004, 'grad_norm': 0.026155907660722733, 'learning_rate': 1.4537037037037037e-05, 'epoch': 1.23}\n",
      "{'loss': 0.0002, 'grad_norm': 0.0013938507763668895, 'learning_rate': 1.4462962962962963e-05, 'epoch': 1.23}\n",
      "{'loss': 0.0174, 'grad_norm': 0.0013284534215927124, 'learning_rate': 1.438888888888889e-05, 'epoch': 1.24}\n",
      "{'loss': 0.0434, 'grad_norm': 0.0008679384482093155, 'learning_rate': 1.4314814814814815e-05, 'epoch': 1.24}\n",
      "{'loss': 0.0, 'grad_norm': 0.000663400103803724, 'learning_rate': 1.4240740740740741e-05, 'epoch': 1.24}\n",
      "{'loss': 0.0, 'grad_norm': 0.000946720945648849, 'learning_rate': 1.4166666666666666e-05, 'epoch': 1.24}\n",
      "{'loss': 0.0, 'grad_norm': 0.0007780133164487779, 'learning_rate': 1.4092592592592594e-05, 'epoch': 1.24}\n",
      "{'loss': 0.0, 'grad_norm': 0.0005630267551168799, 'learning_rate': 1.4018518518518519e-05, 'epoch': 1.25}\n",
      "{'loss': 0.0, 'grad_norm': 0.000889254966750741, 'learning_rate': 1.3944444444444444e-05, 'epoch': 1.25}\n",
      "{'loss': 0.0, 'grad_norm': 0.0008064728463068604, 'learning_rate': 1.387037037037037e-05, 'epoch': 1.25}\n",
      "{'loss': 0.0, 'grad_norm': 0.000591642688959837, 'learning_rate': 1.3796296296296297e-05, 'epoch': 1.25}\n",
      "{'loss': 0.0, 'grad_norm': 0.0028762677684426308, 'learning_rate': 1.3722222222222223e-05, 'epoch': 1.26}\n",
      "{'loss': 0.0, 'grad_norm': 0.0006812402862124145, 'learning_rate': 1.3648148148148148e-05, 'epoch': 1.26}\n",
      "{'loss': 0.0329, 'grad_norm': 0.0005080747068859637, 'learning_rate': 1.3574074074074073e-05, 'epoch': 1.26}\n",
      "{'loss': 0.0001, 'grad_norm': 0.0021093985997140408, 'learning_rate': 1.3500000000000001e-05, 'epoch': 1.26}\n",
      "{'loss': 0.0, 'grad_norm': 0.0009202822111546993, 'learning_rate': 1.3425925925925926e-05, 'epoch': 1.26}\n",
      "{'loss': 0.0, 'grad_norm': 0.0005080600385554135, 'learning_rate': 1.3351851851851853e-05, 'epoch': 1.27}\n",
      "{'loss': 0.0, 'grad_norm': 0.017890004441142082, 'learning_rate': 1.3277777777777777e-05, 'epoch': 1.27}\n",
      "{'loss': 0.0895, 'grad_norm': 0.26200222969055176, 'learning_rate': 1.3203703703703704e-05, 'epoch': 1.27}\n",
      "{'loss': 0.052, 'grad_norm': 0.04070139303803444, 'learning_rate': 1.312962962962963e-05, 'epoch': 1.27}\n",
      "{'loss': 0.0001, 'grad_norm': 0.009623253718018532, 'learning_rate': 1.3055555555555555e-05, 'epoch': 1.28}\n",
      "{'loss': 0.0271, 'grad_norm': 0.0007391310064122081, 'learning_rate': 1.2981481481481482e-05, 'epoch': 1.28}\n",
      "{'loss': 0.0681, 'grad_norm': 0.0030142986215651035, 'learning_rate': 1.2907407407407408e-05, 'epoch': 1.28}\n",
      "{'loss': 0.0002, 'grad_norm': 0.0031380022410303354, 'learning_rate': 1.2833333333333333e-05, 'epoch': 1.28}\n",
      "{'loss': 0.0231, 'grad_norm': 0.0024996090214699507, 'learning_rate': 1.275925925925926e-05, 'epoch': 1.28}\n",
      "{'loss': 0.0501, 'grad_norm': 0.02676747739315033, 'learning_rate': 1.2685185185185186e-05, 'epoch': 1.29}\n",
      "{'loss': 0.0001, 'grad_norm': 0.0014290886465460062, 'learning_rate': 1.2611111111111113e-05, 'epoch': 1.29}\n",
      "{'loss': 0.0023, 'grad_norm': 0.019885899499058723, 'learning_rate': 1.2537037037037037e-05, 'epoch': 1.29}\n",
      "{'loss': 0.0394, 'grad_norm': 0.6066683530807495, 'learning_rate': 1.2462962962962962e-05, 'epoch': 1.29}\n",
      "{'loss': 0.0409, 'grad_norm': 20.961692810058594, 'learning_rate': 1.238888888888889e-05, 'epoch': 1.3}\n",
      "{'loss': 0.0431, 'grad_norm': 0.0020134970545768738, 'learning_rate': 1.2314814814814815e-05, 'epoch': 1.3}\n",
      "{'loss': 0.0002, 'grad_norm': 0.002657320350408554, 'learning_rate': 1.2240740740740742e-05, 'epoch': 1.3}\n",
      "{'loss': 0.0273, 'grad_norm': 0.020985014736652374, 'learning_rate': 1.2166666666666667e-05, 'epoch': 1.3}\n",
      "{'loss': 0.0001, 'grad_norm': 0.0016574714099988341, 'learning_rate': 1.2092592592592593e-05, 'epoch': 1.3}\n",
      "{'loss': 0.0451, 'grad_norm': 0.0018179493490606546, 'learning_rate': 1.201851851851852e-05, 'epoch': 1.31}\n",
      "{'loss': 0.0001, 'grad_norm': 0.0011476685758680105, 'learning_rate': 1.1944444444444444e-05, 'epoch': 1.31}\n",
      "{'loss': 0.0002, 'grad_norm': 0.0012322199763730168, 'learning_rate': 1.1870370370370371e-05, 'epoch': 1.31}\n",
      "{'loss': 0.0432, 'grad_norm': 0.007751381024718285, 'learning_rate': 1.1796296296296297e-05, 'epoch': 1.31}\n",
      "{'loss': 0.0279, 'grad_norm': 0.002044172026216984, 'learning_rate': 1.1722222222222222e-05, 'epoch': 1.32}\n",
      "{'loss': 0.0001, 'grad_norm': 0.0010322814341634512, 'learning_rate': 1.1648148148148149e-05, 'epoch': 1.32}\n",
      "{'loss': 0.0511, 'grad_norm': inf, 'learning_rate': 1.1577777777777778e-05, 'epoch': 1.32}\n",
      "{'loss': 0.0851, 'grad_norm': 0.031681615859270096, 'learning_rate': 1.1503703703703705e-05, 'epoch': 1.32}\n",
      "{'loss': 0.0006, 'grad_norm': 0.0031957963947206736, 'learning_rate': 1.142962962962963e-05, 'epoch': 1.32}\n",
      "{'loss': 0.0491, 'grad_norm': 0.009072787128388882, 'learning_rate': 1.1355555555555556e-05, 'epoch': 1.33}\n",
      "{'loss': 0.0005, 'grad_norm': 0.004353153519332409, 'learning_rate': 1.1281481481481481e-05, 'epoch': 1.33}\n",
      "{'loss': 0.0429, 'grad_norm': 0.002973381197080016, 'learning_rate': 1.120740740740741e-05, 'epoch': 1.33}\n",
      "{'loss': 0.0357, 'grad_norm': 0.0023198293056339025, 'learning_rate': 1.1133333333333334e-05, 'epoch': 1.33}\n"
     ]
    },
    {
     "name": "stderr",
     "output_type": "stream",
     "text": [
      "Reading metadata...: 12131it [00:14, 825.59it/s]\n",
      "Reading metadata...: 10198it [00:08, 1167.88it/s]\n",
      "Reading metadata...: 16390it [00:07, 2084.90it/s]\n",
      "Some non-default generation parameters are set in the model config. These should go into a GenerationConfig file (https://huggingface.co/docs/transformers/generation_strategies#save-a-custom-decoding-strategy-with-your-model) instead. This warning will be raised to an exception in v4.41.\n",
      "Non-default generation parameters: {'max_length': 448, 'suppress_tokens': [1, 2, 7, 8, 9, 10, 14, 25, 26, 27, 28, 29, 31, 58, 59, 60, 61, 62, 63, 90, 91, 92, 93, 359, 503, 522, 542, 873, 893, 902, 918, 922, 931, 1350, 1853, 1982, 2460, 2627, 3246, 3253, 3268, 3536, 3846, 3961, 4183, 4667, 6585, 6647, 7273, 9061, 9383, 10428, 10929, 11938, 12033, 12331, 12562, 13793, 14157, 14635, 15265, 15618, 16553, 16604, 18362, 18956, 20075, 21675, 22520, 26130, 26161, 26435, 28279, 29464, 31650, 32302, 32470, 36865, 42863, 47425, 49870, 50254, 50258, 50360, 50361, 50362], 'begin_suppress_tokens': [220, 50257]}\n"
     ]
    },
    {
     "name": "stdout",
     "output_type": "stream",
     "text": [
      "{'eval_loss': 0.17317111790180206, 'eval_accuracy': 0.964, 'eval_f1': 0.9637480781155655, 'eval_runtime': 273.2865, 'eval_samples_per_second': 10.977, 'eval_steps_per_second': 5.489, 'epoch': 1.33}\n"
     ]
    },
    {
     "name": "stderr",
     "output_type": "stream",
     "text": [
      "Reading metadata...: 48452it [00:07, 6662.57it/s]\n",
      "Reading metadata...: 26359it [00:27, 964.04it/s]\n",
      "Reading metadata...: 1090061it [02:35, 7016.41it/s]\n"
     ]
    },
    {
     "name": "stdout",
     "output_type": "stream",
     "text": [
      "{'loss': 0.0004, 'grad_norm': 0.003753470489755273, 'learning_rate': 1.1059259259259259e-05, 'epoch': 2.0}\n",
      "{'loss': 0.0008, 'grad_norm': 0.0010631558252498507, 'learning_rate': 1.0985185185185185e-05, 'epoch': 2.0}\n",
      "{'loss': 0.0083, 'grad_norm': 0.004463888239115477, 'learning_rate': 1.0911111111111112e-05, 'epoch': 2.01}\n",
      "{'loss': 0.0, 'grad_norm': 0.0007604621932841837, 'learning_rate': 1.0837037037037038e-05, 'epoch': 2.01}\n",
      "{'loss': 0.0, 'grad_norm': 0.0005781561485491693, 'learning_rate': 1.0762962962962963e-05, 'epoch': 2.01}\n",
      "{'loss': 0.0, 'grad_norm': 0.0008206661441363394, 'learning_rate': 1.0688888888888888e-05, 'epoch': 2.01}\n",
      "{'loss': 0.0001, 'grad_norm': 0.009642548859119415, 'learning_rate': 1.0614814814814816e-05, 'epoch': 2.02}\n",
      "{'loss': 0.0001, 'grad_norm': 0.0011490631150081754, 'learning_rate': 1.0540740740740741e-05, 'epoch': 2.02}\n",
      "{'loss': 0.0, 'grad_norm': 0.0008220415329560637, 'learning_rate': 1.0466666666666668e-05, 'epoch': 2.02}\n",
      "{'loss': 0.0, 'grad_norm': 0.002017004182562232, 'learning_rate': 1.0392592592592592e-05, 'epoch': 2.02}\n",
      "{'loss': 0.0001, 'grad_norm': 0.0007106750854291022, 'learning_rate': 1.0318518518518519e-05, 'epoch': 2.02}\n",
      "{'loss': 0.0, 'grad_norm': 0.023472461849451065, 'learning_rate': 1.0244444444444445e-05, 'epoch': 2.03}\n",
      "{'loss': 0.0, 'grad_norm': 0.00045344154932536185, 'learning_rate': 1.017037037037037e-05, 'epoch': 2.03}\n",
      "{'loss': 0.0, 'grad_norm': 0.015796881169080734, 'learning_rate': 1.0096296296296297e-05, 'epoch': 2.03}\n",
      "{'loss': 0.0008, 'grad_norm': 0.001472744857892394, 'learning_rate': 1.0022222222222223e-05, 'epoch': 2.03}\n",
      "{'loss': 0.0, 'grad_norm': 0.0006733653135597706, 'learning_rate': 9.948148148148148e-06, 'epoch': 2.04}\n",
      "{'loss': 0.0, 'grad_norm': 0.05154816806316376, 'learning_rate': 9.874074074074075e-06, 'epoch': 2.04}\n",
      "{'loss': 0.0001, 'grad_norm': 0.00048581790179014206, 'learning_rate': 9.8e-06, 'epoch': 2.04}\n",
      "{'loss': 0.0006, 'grad_norm': 0.0005815317272208631, 'learning_rate': 9.725925925925928e-06, 'epoch': 2.04}\n",
      "{'loss': 0.0, 'grad_norm': 0.024824757128953934, 'learning_rate': 9.651851851851852e-06, 'epoch': 2.04}\n",
      "{'loss': 0.0, 'grad_norm': 0.00038839259650558233, 'learning_rate': 9.577777777777777e-06, 'epoch': 2.05}\n",
      "{'loss': 0.0, 'grad_norm': 0.0004608221061062068, 'learning_rate': 9.503703703703704e-06, 'epoch': 2.05}\n",
      "{'loss': 0.0, 'grad_norm': 0.0004827703523915261, 'learning_rate': 9.42962962962963e-06, 'epoch': 2.05}\n",
      "{'loss': 0.0166, 'grad_norm': 0.0008012986509129405, 'learning_rate': 9.355555555555555e-06, 'epoch': 2.05}\n",
      "{'loss': 0.0, 'grad_norm': 0.0038025551475584507, 'learning_rate': 9.281481481481482e-06, 'epoch': 2.06}\n",
      "{'loss': 0.0, 'grad_norm': 0.0004594470374286175, 'learning_rate': 9.207407407407406e-06, 'epoch': 2.06}\n",
      "{'loss': 0.0, 'grad_norm': 0.00039441941771656275, 'learning_rate': 9.133333333333335e-06, 'epoch': 2.06}\n",
      "{'loss': 0.0, 'grad_norm': 0.0021436642855405807, 'learning_rate': 9.05925925925926e-06, 'epoch': 2.06}\n",
      "{'loss': 0.0, 'grad_norm': 0.00039345864206552505, 'learning_rate': 8.985185185185184e-06, 'epoch': 2.06}\n",
      "{'loss': 0.0, 'grad_norm': 0.00034847832284867764, 'learning_rate': 8.911111111111112e-06, 'epoch': 2.07}\n",
      "{'loss': 0.0, 'grad_norm': 0.0004115033952984959, 'learning_rate': 8.837037037037037e-06, 'epoch': 2.07}\n",
      "{'loss': 0.0, 'grad_norm': 0.00039052398642525077, 'learning_rate': 8.762962962962964e-06, 'epoch': 2.07}\n",
      "{'loss': 0.0, 'grad_norm': 0.0003588625986594707, 'learning_rate': 8.688888888888889e-06, 'epoch': 2.07}\n",
      "{'loss': 0.0, 'grad_norm': 0.0011755838058888912, 'learning_rate': 8.614814814814815e-06, 'epoch': 2.08}\n",
      "{'loss': 0.0, 'grad_norm': 0.0005836344207637012, 'learning_rate': 8.540740740740742e-06, 'epoch': 2.08}\n",
      "{'loss': 0.0, 'grad_norm': 0.00042398914229124784, 'learning_rate': 8.466666666666666e-06, 'epoch': 2.08}\n",
      "{'loss': 0.0, 'grad_norm': 0.0007961672963574529, 'learning_rate': 8.392592592592593e-06, 'epoch': 2.08}\n",
      "{'loss': 0.053, 'grad_norm': 0.0005079146940261126, 'learning_rate': 8.31851851851852e-06, 'epoch': 2.08}\n",
      "{'loss': 0.0, 'grad_norm': 0.0008066762238740921, 'learning_rate': 8.244444444444444e-06, 'epoch': 2.09}\n",
      "{'loss': 0.0, 'grad_norm': 0.0005936915404163301, 'learning_rate': 8.17037037037037e-06, 'epoch': 2.09}\n",
      "{'loss': 0.0, 'grad_norm': 0.00046416904660873115, 'learning_rate': 8.096296296296296e-06, 'epoch': 2.09}\n",
      "{'loss': 0.0, 'grad_norm': 0.0004562193062156439, 'learning_rate': 8.022222222222224e-06, 'epoch': 2.09}\n",
      "{'loss': 0.0, 'grad_norm': 0.00038632319774478674, 'learning_rate': 7.948148148148149e-06, 'epoch': 2.1}\n",
      "{'loss': 0.0, 'grad_norm': 0.0004731825029011816, 'learning_rate': 7.874074074074073e-06, 'epoch': 2.1}\n",
      "{'loss': 0.0, 'grad_norm': 0.00043699328671209514, 'learning_rate': 7.8e-06, 'epoch': 2.1}\n",
      "{'loss': 0.0, 'grad_norm': 0.0004809745296370238, 'learning_rate': 7.725925925925926e-06, 'epoch': 2.1}\n",
      "{'loss': 0.0, 'grad_norm': 0.0003792052739299834, 'learning_rate': 7.651851851851853e-06, 'epoch': 2.1}\n",
      "{'loss': 0.0, 'grad_norm': 0.0005052784690633416, 'learning_rate': 7.577777777777778e-06, 'epoch': 2.11}\n",
      "{'loss': 0.0, 'grad_norm': 0.0008708231616765261, 'learning_rate': 7.503703703703703e-06, 'epoch': 2.11}\n",
      "{'loss': 0.0, 'grad_norm': 0.00040871111559681594, 'learning_rate': 7.42962962962963e-06, 'epoch': 2.11}\n",
      "{'loss': 0.0, 'grad_norm': 0.00039543898310512304, 'learning_rate': 7.3555555555555555e-06, 'epoch': 2.11}\n",
      "{'loss': 0.0, 'grad_norm': 0.00048084204900078475, 'learning_rate': 7.281481481481481e-06, 'epoch': 2.12}\n",
      "{'loss': 0.0, 'grad_norm': 0.0004663886211346835, 'learning_rate': 7.207407407407408e-06, 'epoch': 2.12}\n",
      "{'loss': 0.004, 'grad_norm': 0.00037519392208196223, 'learning_rate': 7.133333333333333e-06, 'epoch': 2.12}\n",
      "{'loss': 0.0173, 'grad_norm': 0.0003740976972039789, 'learning_rate': 7.05925925925926e-06, 'epoch': 2.12}\n",
      "{'loss': 0.0, 'grad_norm': 0.00037132372381165624, 'learning_rate': 6.985185185185185e-06, 'epoch': 2.12}\n",
      "{'loss': 0.0, 'grad_norm': 0.017701903358101845, 'learning_rate': 6.911111111111111e-06, 'epoch': 2.13}\n",
      "{'loss': 0.0, 'grad_norm': 0.0004165243881288916, 'learning_rate': 6.837037037037037e-06, 'epoch': 2.13}\n",
      "{'loss': 0.0, 'grad_norm': 0.0005846781423315406, 'learning_rate': 6.762962962962963e-06, 'epoch': 2.13}\n",
      "{'loss': 0.0, 'grad_norm': 0.0004108011198695749, 'learning_rate': 6.688888888888889e-06, 'epoch': 2.13}\n",
      "{'loss': 0.0, 'grad_norm': 0.00032225693576037884, 'learning_rate': 6.614814814814815e-06, 'epoch': 2.14}\n",
      "{'loss': 0.0, 'grad_norm': 0.00035466617555357516, 'learning_rate': 6.54074074074074e-06, 'epoch': 2.14}\n",
      "{'loss': 0.0024, 'grad_norm': 0.0003727809526026249, 'learning_rate': 6.466666666666667e-06, 'epoch': 2.14}\n",
      "{'loss': 0.0, 'grad_norm': 0.0003476818383205682, 'learning_rate': 6.3925925925925925e-06, 'epoch': 2.14}\n",
      "{'loss': 0.0371, 'grad_norm': 0.000449893792392686, 'learning_rate': 6.318518518518519e-06, 'epoch': 2.14}\n",
      "{'loss': 0.0, 'grad_norm': 0.0013404664350673556, 'learning_rate': 6.244444444444445e-06, 'epoch': 2.15}\n",
      "{'loss': 0.0, 'grad_norm': 0.1141057088971138, 'learning_rate': 6.17037037037037e-06, 'epoch': 2.15}\n",
      "{'loss': 0.0001, 'grad_norm': 0.00039943301817402244, 'learning_rate': 6.096296296296297e-06, 'epoch': 2.15}\n",
      "{'loss': 0.0001, 'grad_norm': 0.0003651098522823304, 'learning_rate': 6.0222222222222225e-06, 'epoch': 2.15}\n",
      "{'loss': 0.0001, 'grad_norm': 0.002261887304484844, 'learning_rate': 5.948148148148149e-06, 'epoch': 2.16}\n",
      "{'loss': 0.0001, 'grad_norm': 0.00035391119308769703, 'learning_rate': 5.874074074074074e-06, 'epoch': 2.16}\n",
      "{'loss': 0.0, 'grad_norm': 0.000807092001195997, 'learning_rate': 5.8e-06, 'epoch': 2.16}\n",
      "{'loss': 0.0, 'grad_norm': 0.0003347951569594443, 'learning_rate': 5.725925925925926e-06, 'epoch': 2.16}\n",
      "{'loss': 0.0055, 'grad_norm': 0.0003734324127435684, 'learning_rate': 5.6518518518518525e-06, 'epoch': 2.16}\n",
      "{'loss': 0.0, 'grad_norm': 0.00044514049659483135, 'learning_rate': 5.577777777777778e-06, 'epoch': 2.17}\n",
      "{'loss': 0.0, 'grad_norm': 0.00038190532359294593, 'learning_rate': 5.503703703703704e-06, 'epoch': 2.17}\n",
      "{'loss': 0.0, 'grad_norm': 0.0002905788132920861, 'learning_rate': 5.4296296296296295e-06, 'epoch': 2.17}\n",
      "{'loss': 0.0009, 'grad_norm': 0.0009868143824860454, 'learning_rate': 5.355555555555556e-06, 'epoch': 2.17}\n",
      "{'loss': 0.0, 'grad_norm': 0.08737148344516754, 'learning_rate': 5.281481481481482e-06, 'epoch': 2.18}\n",
      "{'loss': 0.0, 'grad_norm': 0.0003203288360964507, 'learning_rate': 5.207407407407408e-06, 'epoch': 2.18}\n",
      "{'loss': 0.0, 'grad_norm': 0.06477765738964081, 'learning_rate': 5.133333333333333e-06, 'epoch': 2.18}\n",
      "{'loss': 0.0, 'grad_norm': 0.00032514749909751117, 'learning_rate': 5.0592592592592595e-06, 'epoch': 2.18}\n",
      "{'loss': 0.0, 'grad_norm': 0.00025956163881346583, 'learning_rate': 4.985185185185185e-06, 'epoch': 2.18}\n",
      "{'loss': 0.0, 'grad_norm': 0.00031031540129333735, 'learning_rate': 4.911111111111112e-06, 'epoch': 2.19}\n",
      "{'loss': 0.0, 'grad_norm': 0.00023846350086387247, 'learning_rate': 4.8370370370370365e-06, 'epoch': 2.19}\n",
      "{'loss': 0.0, 'grad_norm': 0.0002630213275551796, 'learning_rate': 4.762962962962963e-06, 'epoch': 2.19}\n",
      "{'loss': 0.0, 'grad_norm': 0.00027232032152824104, 'learning_rate': 4.688888888888889e-06, 'epoch': 2.19}\n",
      "{'loss': 0.0, 'grad_norm': 0.0002384927065577358, 'learning_rate': 4.614814814814815e-06, 'epoch': 2.2}\n",
      "{'loss': 0.0, 'grad_norm': 0.00028290454065427184, 'learning_rate': 4.540740740740741e-06, 'epoch': 2.2}\n",
      "{'loss': 0.0, 'grad_norm': 0.0017451316816732287, 'learning_rate': 4.4666666666666665e-06, 'epoch': 2.2}\n",
      "{'loss': 0.0, 'grad_norm': 0.00031157315243035555, 'learning_rate': 4.392592592592592e-06, 'epoch': 2.2}\n",
      "{'loss': 0.0, 'grad_norm': 0.00024386240693274885, 'learning_rate': 4.318518518518519e-06, 'epoch': 2.2}\n",
      "{'loss': 0.0, 'grad_norm': 0.0003860000579152256, 'learning_rate': 4.244444444444444e-06, 'epoch': 2.21}\n",
      "{'loss': 0.0, 'grad_norm': 0.00025641440879553556, 'learning_rate': 4.170370370370371e-06, 'epoch': 2.21}\n",
      "{'loss': 0.0, 'grad_norm': 0.0002860386739484966, 'learning_rate': 4.096296296296296e-06, 'epoch': 2.21}\n",
      "{'loss': 0.0, 'grad_norm': 0.0002365771943004802, 'learning_rate': 4.022222222222222e-06, 'epoch': 2.21}\n",
      "{'loss': 0.0, 'grad_norm': 0.0003335230576340109, 'learning_rate': 3.948148148148148e-06, 'epoch': 2.22}\n",
      "{'loss': 0.0, 'grad_norm': 0.0002154862304450944, 'learning_rate': 3.874074074074074e-06, 'epoch': 2.22}\n",
      "{'loss': 0.0, 'grad_norm': 0.0002840528031811118, 'learning_rate': 3.8000000000000005e-06, 'epoch': 2.22}\n",
      "{'loss': 0.0, 'grad_norm': 0.0043731252662837505, 'learning_rate': 3.725925925925926e-06, 'epoch': 2.22}\n",
      "{'loss': 0.0, 'grad_norm': 0.0014995293458923697, 'learning_rate': 3.651851851851852e-06, 'epoch': 2.22}\n",
      "{'loss': 0.0, 'grad_norm': 0.0002632339601404965, 'learning_rate': 3.577777777777778e-06, 'epoch': 2.23}\n",
      "{'loss': 0.0, 'grad_norm': 0.00026340619660913944, 'learning_rate': 3.503703703703704e-06, 'epoch': 2.23}\n",
      "{'loss': 0.0, 'grad_norm': 0.00023584482551086694, 'learning_rate': 3.4296296296296296e-06, 'epoch': 2.23}\n",
      "{'loss': 0.0, 'grad_norm': 0.00024128828954417259, 'learning_rate': 3.3555555555555557e-06, 'epoch': 2.23}\n",
      "{'loss': 0.0, 'grad_norm': 0.0002483244752511382, 'learning_rate': 3.2814814814814814e-06, 'epoch': 2.24}\n",
      "{'loss': 0.0, 'grad_norm': 0.0002269993128720671, 'learning_rate': 3.2074074074074075e-06, 'epoch': 2.24}\n",
      "{'loss': 0.0, 'grad_norm': 0.0002466683799866587, 'learning_rate': 3.1333333333333335e-06, 'epoch': 2.24}\n",
      "{'loss': 0.0, 'grad_norm': 0.0004465744423214346, 'learning_rate': 3.059259259259259e-06, 'epoch': 2.24}\n",
      "{'loss': 0.0, 'grad_norm': 0.0002226532087661326, 'learning_rate': 2.9851851851851853e-06, 'epoch': 2.24}\n",
      "{'loss': 0.0, 'grad_norm': 0.0002023199776886031, 'learning_rate': 2.911111111111111e-06, 'epoch': 2.25}\n",
      "{'loss': 0.0, 'grad_norm': 0.00023340816551353782, 'learning_rate': 2.837037037037037e-06, 'epoch': 2.25}\n",
      "{'loss': 0.0, 'grad_norm': 0.0002026075089816004, 'learning_rate': 2.7629629629629627e-06, 'epoch': 2.25}\n",
      "{'loss': 0.0, 'grad_norm': 0.0013192552141845226, 'learning_rate': 2.688888888888889e-06, 'epoch': 2.25}\n",
      "{'loss': 0.0, 'grad_norm': 0.00021248227858450264, 'learning_rate': 2.614814814814815e-06, 'epoch': 2.26}\n",
      "{'loss': 0.0, 'grad_norm': 0.00021777553774882108, 'learning_rate': 2.5407407407407405e-06, 'epoch': 2.26}\n",
      "{'loss': 0.0, 'grad_norm': 0.010433686897158623, 'learning_rate': 2.4666666666666666e-06, 'epoch': 2.26}\n",
      "{'loss': 0.0, 'grad_norm': 0.0002246006770292297, 'learning_rate': 2.3925925925925923e-06, 'epoch': 2.26}\n",
      "{'loss': 0.0, 'grad_norm': 0.0006199102499522269, 'learning_rate': 2.3185185185185184e-06, 'epoch': 2.26}\n",
      "{'loss': 0.0, 'grad_norm': 0.00022384976909961551, 'learning_rate': 2.2444444444444445e-06, 'epoch': 2.27}\n",
      "{'loss': 0.0, 'grad_norm': 0.0005350279971025884, 'learning_rate': 2.1703703703703705e-06, 'epoch': 2.27}\n",
      "{'loss': 0.0, 'grad_norm': 0.00021467146871145815, 'learning_rate': 2.0962962962962966e-06, 'epoch': 2.27}\n",
      "{'loss': 0.0, 'grad_norm': 0.0002508767938707024, 'learning_rate': 2.0222222222222223e-06, 'epoch': 2.27}\n",
      "{'loss': 0.0, 'grad_norm': 0.00022653910855297, 'learning_rate': 1.9481481481481484e-06, 'epoch': 2.28}\n",
      "{'loss': 0.0636, 'grad_norm': 0.00024540931917726994, 'learning_rate': 1.874074074074074e-06, 'epoch': 2.28}\n",
      "{'loss': 0.0001, 'grad_norm': 0.00025524513330310583, 'learning_rate': 1.8e-06, 'epoch': 2.28}\n",
      "{'loss': 0.0559, 'grad_norm': 0.0007498815539292991, 'learning_rate': 1.725925925925926e-06, 'epoch': 2.28}\n",
      "{'loss': 0.0, 'grad_norm': 0.0015222877264022827, 'learning_rate': 1.6518518518518519e-06, 'epoch': 2.28}\n",
      "{'loss': 0.0003, 'grad_norm': 0.0022356114350259304, 'learning_rate': 1.5777777777777778e-06, 'epoch': 2.29}\n",
      "{'loss': 0.0, 'grad_norm': 0.00021586113143712282, 'learning_rate': 1.5037037037037036e-06, 'epoch': 2.29}\n",
      "{'loss': 0.0001, 'grad_norm': 0.0002053216303465888, 'learning_rate': 1.4296296296296297e-06, 'epoch': 2.29}\n",
      "{'loss': 0.0, 'grad_norm': 0.0007125016418285668, 'learning_rate': 1.3555555555555556e-06, 'epoch': 2.29}\n",
      "{'loss': 0.0, 'grad_norm': 0.0002181500312872231, 'learning_rate': 1.2814814814814817e-06, 'epoch': 2.3}\n",
      "{'loss': 0.0, 'grad_norm': 0.0001975742488866672, 'learning_rate': 1.2074074074074075e-06, 'epoch': 2.3}\n",
      "{'loss': 0.0, 'grad_norm': 0.00029442194500006735, 'learning_rate': 1.1333333333333334e-06, 'epoch': 2.3}\n",
      "{'loss': 0.0, 'grad_norm': 0.00021407639724202454, 'learning_rate': 1.0592592592592593e-06, 'epoch': 2.3}\n",
      "{'loss': 0.0, 'grad_norm': 0.0014712847769260406, 'learning_rate': 9.851851851851852e-07, 'epoch': 2.3}\n",
      "{'loss': 0.0, 'grad_norm': 0.00023342571512330323, 'learning_rate': 9.111111111111112e-07, 'epoch': 2.31}\n",
      "{'loss': 0.0, 'grad_norm': 0.0002712928398977965, 'learning_rate': 8.37037037037037e-07, 'epoch': 2.31}\n",
      "{'loss': 0.0, 'grad_norm': 0.00020574180234689265, 'learning_rate': 7.62962962962963e-07, 'epoch': 2.31}\n",
      "{'loss': 0.061, 'grad_norm': 0.00022407165670301765, 'learning_rate': 6.888888888888889e-07, 'epoch': 2.31}\n",
      "{'loss': 0.0, 'grad_norm': 0.00021731511515099555, 'learning_rate': 6.148148148148148e-07, 'epoch': 2.32}\n",
      "{'loss': 0.0, 'grad_norm': 0.002373416442424059, 'learning_rate': 5.407407407407407e-07, 'epoch': 2.32}\n",
      "{'loss': 0.0, 'grad_norm': 0.000291816599201411, 'learning_rate': 4.6666666666666666e-07, 'epoch': 2.32}\n",
      "{'loss': 0.0, 'grad_norm': 0.00020154842059127986, 'learning_rate': 3.925925925925926e-07, 'epoch': 2.32}\n",
      "{'loss': 0.0, 'grad_norm': 0.0002262141788378358, 'learning_rate': 3.185185185185185e-07, 'epoch': 2.32}\n",
      "{'loss': 0.0, 'grad_norm': 0.0002517359680496156, 'learning_rate': 2.4444444444444445e-07, 'epoch': 2.33}\n",
      "{'loss': 0.0, 'grad_norm': 0.00019983439415227622, 'learning_rate': 1.7037037037037037e-07, 'epoch': 2.33}\n",
      "{'loss': 0.0, 'grad_norm': 0.0003054143162444234, 'learning_rate': 9.629629629629629e-08, 'epoch': 2.33}\n",
      "{'loss': 0.0, 'grad_norm': 0.00020713302365038544, 'learning_rate': 2.222222222222222e-08, 'epoch': 2.33}\n"
     ]
    },
    {
     "name": "stderr",
     "output_type": "stream",
     "text": [
      "Reading metadata...: 12131it [00:11, 1022.23it/s]\n",
      "Reading metadata...: 10198it [00:22, 447.90it/s]\n",
      "Reading metadata...: 16390it [00:19, 854.86it/s]\n",
      "Some non-default generation parameters are set in the model config. These should go into a GenerationConfig file (https://huggingface.co/docs/transformers/generation_strategies#save-a-custom-decoding-strategy-with-your-model) instead. This warning will be raised to an exception in v4.41.\n",
      "Non-default generation parameters: {'max_length': 448, 'suppress_tokens': [1, 2, 7, 8, 9, 10, 14, 25, 26, 27, 28, 29, 31, 58, 59, 60, 61, 62, 63, 90, 91, 92, 93, 359, 503, 522, 542, 873, 893, 902, 918, 922, 931, 1350, 1853, 1982, 2460, 2627, 3246, 3253, 3268, 3536, 3846, 3961, 4183, 4667, 6585, 6647, 7273, 9061, 9383, 10428, 10929, 11938, 12033, 12331, 12562, 13793, 14157, 14635, 15265, 15618, 16553, 16604, 18362, 18956, 20075, 21675, 22520, 26130, 26161, 26435, 28279, 29464, 31650, 32302, 32470, 36865, 42863, 47425, 49870, 50254, 50258, 50360, 50361, 50362], 'begin_suppress_tokens': [220, 50257]}\n"
     ]
    },
    {
     "name": "stdout",
     "output_type": "stream",
     "text": [
      "{'eval_loss': 0.20653487741947174, 'eval_accuracy': 0.9746666666666667, 'eval_f1': 0.9746133047846031, 'eval_runtime': 290.5837, 'eval_samples_per_second': 10.324, 'eval_steps_per_second': 5.162, 'epoch': 2.33}\n",
      "{'train_runtime': 13139.3387, 'train_samples_per_second': 5.48, 'train_steps_per_second': 0.685, 'train_loss': 0.04088999949561225, 'epoch': 2.33}\n"
     ]
    },
    {
     "data": {
      "text/plain": [
       "TrainOutput(global_step=9000, training_loss=0.04088999949561225, metrics={'train_runtime': 13139.3387, 'train_samples_per_second': 5.48, 'train_steps_per_second': 0.685, 'train_loss': 0.04088999949561225, 'epoch': 2.33})"
      ]
     },
     "execution_count": 24,
     "metadata": {},
     "output_type": "execute_result"
    }
   ],
   "source": [
    "trainer.train()"
   ]
  },
  {
   "cell_type": "code",
   "execution_count": 25,
   "metadata": {},
   "outputs": [
    {
     "name": "stderr",
     "output_type": "stream",
     "text": [
      "Some non-default generation parameters are set in the model config. These should go into a GenerationConfig file (https://huggingface.co/docs/transformers/generation_strategies#save-a-custom-decoding-strategy-with-your-model) instead. This warning will be raised to an exception in v4.41.\n",
      "Non-default generation parameters: {'max_length': 448, 'suppress_tokens': [1, 2, 7, 8, 9, 10, 14, 25, 26, 27, 28, 29, 31, 58, 59, 60, 61, 62, 63, 90, 91, 92, 93, 359, 503, 522, 542, 873, 893, 902, 918, 922, 931, 1350, 1853, 1982, 2460, 2627, 3246, 3253, 3268, 3536, 3846, 3961, 4183, 4667, 6585, 6647, 7273, 9061, 9383, 10428, 10929, 11938, 12033, 12331, 12562, 13793, 14157, 14635, 15265, 15618, 16553, 16604, 18362, 18956, 20075, 21675, 22520, 26130, 26161, 26435, 28279, 29464, 31650, 32302, 32470, 36865, 42863, 47425, 49870, 50254, 50258, 50360, 50361, 50362], 'begin_suppress_tokens': [220, 50257]}\n"
     ]
    },
    {
     "data": {
      "text/plain": [
       "CommitInfo(commit_url='https://huggingface.co/fitlemon/whisper-small-uz-en-ru-lang-id/commit/9030bb4d98f57edb4ef7e11380ed6e49a91684c0', commit_message='End of training', commit_description='', oid='9030bb4d98f57edb4ef7e11380ed6e49a91684c0', pr_url=None, pr_revision=None, pr_num=None)"
      ]
     },
     "execution_count": 25,
     "metadata": {},
     "output_type": "execute_result"
    }
   ],
   "source": [
    "trainer.push_to_hub()"
   ]
  },
  {
   "cell_type": "markdown",
   "metadata": {},
   "source": [
    "## Training report"
   ]
  },
  {
   "cell_type": "markdown",
   "metadata": {},
   "source": [
    "Training process yielded impressive results, demonstrating the model's ability to accurately classify audio clips into the targeted languages. The following table summarizes our key metrics across three epochs:\n",
    "\n",
    "| Training Loss | Epoch | Step | Validation Loss | Accuracy | F1     |\n",
    "|:-------------:|:-----:|:----:|:---------------:|:--------:|:------:|\n",
    "| 0.0252        | 1  | 3000 | 0.3089          | 0.953    | 0.9525 |\n",
    "| 0.0357        | 2  | 6000 | 0.1732          | 0.964    | 0.9637 |\n",
    "| 0.0           | 3  | 9000 | 0.2065          | 0.9747   | 0.9746 |\n",
    "\n",
    "As seen from the table, the model improved significantly in terms of accuracy and F1 score over the epochs, while maintaining a competitive validation loss. These metrics underscore the effectiveness of our fine-tuning approach and the suitability of the Whisper model for audio classification tasks."
   ]
  },
  {
   "cell_type": "markdown",
   "metadata": {},
   "source": [
    "Results are far better than I was expect. 97.47 % accuracy is pretty nice. For comparasion model [anton-l/wav2vec2-base-lang-id](https://huggingface.co/anton-l/wav2vec2-base-lang-id) has 79.45% Accuracy. Model from Sanchit Gandhi [sanchit-gandhi/whisper-medium-fleurs-lang-id](https://huggingface.co/sanchit-gandhi/whisper-medium-fleurs-lang-id) has 88.05 %. But it have to be mentioned, that's their identification model has much more bigger set of languages."
   ]
  },
  {
   "cell_type": "markdown",
   "metadata": {},
   "source": [
    "#### Training Loss plot"
   ]
  },
  {
   "cell_type": "markdown",
   "metadata": {},
   "source": [
    "<h4>Loss curve</h4>\n",
    "\n",
    "<img src='./static/img/train_loss_plot.png'>\n",
    "\n",
    "Interpretation of the plot:\n",
    "\n",
    "- Initial Spike: There is an initial spike in loss at the very beginning. This is common as the model starts learning from a randomly initialized state or from pre-trained weights that are not yet fine-tuned for the specific task.\n",
    "\n",
    "- Rapid Decrease: After the initial spike, the loss rapidly decreases. This indicates that the model is learning and adjusting its weights effectively to minimize the loss on the training data.\n",
    "\n",
    "- Smoothing Out: As training continues, the loss starts to smooth out and decrease at a slower rate. This shows that the model is starting to converge and find an optimal set of weights for this particular task.\n",
    "\n",
    "- Final Loss: By the end of training (around step 9,000), the loss is quite low and appears to have stabilized. This suggests that further training may not result in significant improvements and that the model has reached its capacity for learning from this dataset with the given architecture and hyperparameters.\n",
    "\n",
    "The smoothed line, which represents an average of the loss values to give a clearer view of the overall trend, shows very little variance towards the end, which is an indication of a stable training process."
   ]
  },
  {
   "cell_type": "markdown",
   "metadata": {},
   "source": [
    "Overall we can see very good optimization process by mini-batch SGD (8 batches). Particularly, we decreased loss value after each epoch (3000, 6000, 9000 steps). That's why the decision to train over 3 epochs was good."
   ]
  },
  {
   "cell_type": "markdown",
   "metadata": {},
   "source": [
    "#### Learning rate plot:"
   ]
  },
  {
   "cell_type": "markdown",
   "metadata": {},
   "source": [
    "<img src='./static/img/learning_rate.png'>"
   ]
  },
  {
   "cell_type": "markdown",
   "metadata": {},
   "source": [
    "Combination of SGD and AdamW optimizer played a huge role in the smooth training process. We got the extremum point without steping it out. P.S: Of course there is a minimal probability that we reached only local minimum."
   ]
  },
  {
   "cell_type": "markdown",
   "metadata": {},
   "source": [
    "### Training process time"
   ]
  },
  {
   "cell_type": "markdown",
   "metadata": {},
   "source": [
    "It took 3 hours and 228 minutes for training process on the single GPU Nvidia RTX-3050Ti Mobile (4 Gb).\n",
    "\n",
    "\n",
    "How we can decrease training time?!\n",
    "\n",
    "\n",
    "\n"
   ]
  },
  {
   "cell_type": "markdown",
   "metadata": {},
   "source": [
    "[Documentation for Transformers](https://huggingface.co/docs/transformers/main/en/perf_train_gpu_one#batch-size-choice) gives the list of factors, on which depend training speed."
   ]
  },
  {
   "cell_type": "markdown",
   "metadata": {},
   "source": [
    "<img src='./static/img/training_speed.png'>"
   ]
  },
  {
   "cell_type": "markdown",
   "metadata": {},
   "source": [
    "So, what we can do:\n",
    "\n",
    "1. Decrease batch size. Yeah, we can change batch per device from 2 to 1. May be we will not lose in prediction ability of model. \n",
    "2. Mixed precision training. We also chose in training hyperparamaters fp16 float point type with half precision.\n",
    "3. Optimizer choise. We should try this method, too.\n",
    "4. Data preloading. Our most weak point is the datasets. We used streaming dataset. That's why we lost a lot of time for data loading in streaming mode. We could use data preloading from pytorch. See [here](https://medium.com/speechmatics/how-to-build-a-streaming-dataloader-with-pytorch-a66dd891d9dd)\n",
    "5. PyTorch 2.0 introduced a new compile function that doesn’t require any modification to existing PyTorch code but can optimize your code by adding a single line of code: model = torch.compile(model).\n"
   ]
  },
  {
   "cell_type": "markdown",
   "metadata": {},
   "source": [
    "### Check the model, uploaded to huggingface"
   ]
  },
  {
   "cell_type": "markdown",
   "metadata": {},
   "source": [
    "Load sample from test dataset:"
   ]
  },
  {
   "cell_type": "code",
   "execution_count": 87,
   "metadata": {},
   "outputs": [],
   "source": [
    "_dataset = load_dataset(\"mozilla-foundation/common_voice_16_1\", \"ru\", split='test', trust_remote_code=True, token=env('HUGGING_TOKEN'), streaming=True)"
   ]
  },
  {
   "cell_type": "code",
   "execution_count": 95,
   "metadata": {},
   "outputs": [],
   "source": [
    "_dataset = _dataset.cast_column(\"audio\", Audio(sampling_rate=16000))"
   ]
  },
  {
   "cell_type": "code",
   "execution_count": 96,
   "metadata": {},
   "outputs": [
    {
     "name": "stderr",
     "output_type": "stream",
     "text": [
      "Reading metadata...: 10199it [00:04, 2095.99it/s]\n"
     ]
    }
   ],
   "source": [
    "sample_ru = next(iter(_dataset))"
   ]
  },
  {
   "cell_type": "code",
   "execution_count": 97,
   "metadata": {},
   "outputs": [
    {
     "data": {
      "text/plain": [
       "{'client_id': '0050d31f1d2e0cb2fb704aa95a88da6d31108bfa06c678f80d6e22ea7f621096c3fdbfd3fb27226b72e722137179a71ec996e7df63a2bf34413ab48a46b1a4c4',\n",
       " 'path': 'ru_test_0/common_voice_ru_23589751.mp3',\n",
       " 'audio': {'path': 'ru_test_0/common_voice_ru_23589751.mp3',\n",
       "  'array': array([ 4.07453626e-10,  1.16415322e-10,  5.82076609e-10, ...,\n",
       "          1.90821011e-05, -3.32156196e-05,  3.31578776e-05]),\n",
       "  'sampling_rate': 16000},\n",
       " 'sentence': 'Масштабы финансово-экономического кризиса и темпы его распространения застали самых опытных специалистов мира врасплох.',\n",
       " 'up_votes': 2,\n",
       " 'down_votes': 0,\n",
       " 'age': '',\n",
       " 'gender': '',\n",
       " 'accent': '',\n",
       " 'locale': 'ru',\n",
       " 'segment': '',\n",
       " 'variant': ''}"
      ]
     },
     "execution_count": 97,
     "metadata": {},
     "output_type": "execute_result"
    }
   ],
   "source": [
    "sample_ru"
   ]
  },
  {
   "cell_type": "markdown",
   "metadata": {},
   "source": [
    "Load a feature extractor to preprocess the audio file and return the input as PyTorch tensors:"
   ]
  },
  {
   "cell_type": "code",
   "execution_count": 98,
   "metadata": {},
   "outputs": [],
   "source": [
    "from transformers import WhisperFeatureExtractor\n",
    "\n",
    "feature_extractor = WhisperFeatureExtractor.from_pretrained(\"fitlemon/whisper-small-uz-en-ru-lang-id\")\n",
    "inputs = feature_extractor(sample_ru['audio']['array'], sampling_rate=feature_extractor.sampling_rate, return_tensors=\"pt\")"
   ]
  },
  {
   "cell_type": "markdown",
   "metadata": {},
   "source": [
    "Pass your inputs to the model and return the logits:"
   ]
  },
  {
   "cell_type": "code",
   "execution_count": 100,
   "metadata": {},
   "outputs": [],
   "source": [
    "from transformers import WhisperForAudioClassification\n",
    "\n",
    "model = WhisperForAudioClassification.from_pretrained(\"fitlemon/whisper-small-uz-en-ru-lang-id\")\n",
    "with torch.no_grad():\n",
    "    logits = model(**inputs).logits"
   ]
  },
  {
   "cell_type": "markdown",
   "metadata": {},
   "source": [
    "Get the class with the highest probability, and use the model’s id2label mapping to convert it to a label:"
   ]
  },
  {
   "cell_type": "code",
   "execution_count": 101,
   "metadata": {},
   "outputs": [
    {
     "data": {
      "text/plain": [
       "'ru'"
      ]
     },
     "execution_count": 101,
     "metadata": {},
     "output_type": "execute_result"
    }
   ],
   "source": [
    "import torch\n",
    "\n",
    "predicted_class_ids = torch.argmax(logits).item()\n",
    "predicted_label = model.config.id2label[predicted_class_ids]\n",
    "predicted_label"
   ]
  },
  {
   "cell_type": "markdown",
   "metadata": {},
   "source": [
    "Yeah, it was Russian voice."
   ]
  },
  {
   "cell_type": "markdown",
   "metadata": {},
   "source": [
    "Another simplier way to try out your finetuned model for inference is to use it in a pipeline(). Instantiate a pipeline for audio classification with your model, and pass your audio file to it:"
   ]
  },
  {
   "cell_type": "code",
   "execution_count": 108,
   "metadata": {},
   "outputs": [
    {
     "name": "stderr",
     "output_type": "stream",
     "text": [
      "Reading metadata...: 12341it [00:04, 2810.03it/s]\n"
     ]
    }
   ],
   "source": [
    "_dataset_uz = load_dataset(\"mozilla-foundation/common_voice_16_1\", \"uz\", split='test', trust_remote_code=True, token=env('HUGGING_TOKEN'), streaming=True)\n",
    "_dataset_uz = _dataset_uz.cast_column(\"audio\", Audio(sampling_rate=16000))\n",
    "sample_uz = next(iter(_dataset_uz))"
   ]
  },
  {
   "cell_type": "code",
   "execution_count": 109,
   "metadata": {},
   "outputs": [
    {
     "data": {
      "text/plain": [
       "{'client_id': '0003767547f3b2fb06d9844f394d8ba7da4fcafbf283a6ae4fcc072770701d81380c5a5666eadf5b87dd678972e27939b6dbb73a4fa515fae440d2a45d0ae940',\n",
       " 'path': 'uz_test_0/common_voice_uz_30061653.mp3',\n",
       " 'audio': {'path': 'uz_test_0/common_voice_uz_30061653.mp3',\n",
       "  'array': array([-1.13686838e-13, -2.84217094e-13,  1.13686838e-12, ...,\n",
       "         -2.05199058e-08, -1.63471810e-07, -2.74593589e-07]),\n",
       "  'sampling_rate': 16000},\n",
       " 'sentence': 'Xola, anuv shokoladingizdan obering, dedi chamasi etti yasharlar qiz bidirlab',\n",
       " 'up_votes': 2,\n",
       " 'down_votes': 0,\n",
       " 'age': '',\n",
       " 'gender': '',\n",
       " 'accent': '',\n",
       " 'locale': 'uz',\n",
       " 'segment': '',\n",
       " 'variant': ''}"
      ]
     },
     "execution_count": 109,
     "metadata": {},
     "output_type": "execute_result"
    }
   ],
   "source": [
    "sample_uz"
   ]
  },
  {
   "cell_type": "code",
   "execution_count": 110,
   "metadata": {},
   "outputs": [
    {
     "data": {
      "text/plain": [
       "[{'score': 0.9999935626983643, 'label': 'uz'},\n",
       " {'score': 3.718393145391019e-06, 'label': 'ru'},\n",
       " {'score': 2.6824016003956785e-06, 'label': 'en'}]"
      ]
     },
     "execution_count": 110,
     "metadata": {},
     "output_type": "execute_result"
    }
   ],
   "source": [
    "from transformers import pipeline\n",
    "\n",
    "classifier = pipeline(\"audio-classification\", model=\"fitlemon/whisper-small-uz-en-ru-lang-id\")\n",
    "classifier(sample_uz['audio']['array'])"
   ]
  },
  {
   "cell_type": "markdown",
   "metadata": {},
   "source": [
    "Great, Model detected uzbek sample also. Pipeline works."
   ]
  },
  {
   "cell_type": "markdown",
   "metadata": {},
   "source": [
    "Checking with audio file:"
   ]
  },
  {
   "cell_type": "markdown",
   "metadata": {},
   "source": [
    "Download the audio:"
   ]
  },
  {
   "cell_type": "code",
   "execution_count": 51,
   "metadata": {},
   "outputs": [],
   "source": [
    "import requests\n",
    "\n",
    "headers =  {\"Authorization\" : f\"Bearer d{env('HUGGING_TOKEN')}\"}\n",
    "url = \"https://datasets-server.huggingface.co/rows?dataset=mozilla-foundation/common_voice_16_1&config=ru&split=test&offset=0&length=1\"\n",
    "def query():\n",
    "    response = requests.get(url, headers=headers)\n",
    "    return response.json()\n",
    "data = query()"
   ]
  },
  {
   "cell_type": "code",
   "execution_count": 59,
   "metadata": {},
   "outputs": [
    {
     "data": {
      "text/plain": [
       "'https://datasets-server.huggingface.co/cached-assets/mozilla-foundation/common_voice_16_1/--/8228a37ca8d3c733f5e559cc99e3be9f8de170f9/--/ru/test/0/audio/audio.mp3?Expires=1709707395&Signature=otKKJ3~QRKz87Rmv339YwIVkhqU43nwPDRCBhbtpK2zUJNc8vUsf6iYkrQCVBbE3~Zs6zP29VS6xQzs6ZZX29AeofEEe2LLN51-HGKfcno7ymuyXuTZhLd-F4AxB2u6EO71Va14pc~998Qqqzj367lVZXH2fPE8D-qe2VMNnheW6LNAiVCU7Em7Qnw-19Odk1n~pOLjK1ur~p55faO8jypUOoTqqJ5P41rLWhUdjHE-0tX1jJtc-sfmpsKC59nbaOoT0Ho6WJppqll0z1wbY9RIzS2lcyQ4uxVeDDbNqCQkMyOZm0FHqS0rje9NGVf5~vJ2AyLBQl2Ao5F64C1Zcag__&Key-Pair-Id=K3EI6M078Z3AC3'"
      ]
     },
     "execution_count": 59,
     "metadata": {},
     "output_type": "execute_result"
    }
   ],
   "source": [
    "file_name = data['rows'][0]['row']['audio'][0]['src']\n",
    "file_name"
   ]
  },
  {
   "cell_type": "markdown",
   "metadata": {},
   "source": [
    "Download the file from url:"
   ]
  },
  {
   "cell_type": "code",
   "execution_count": 73,
   "metadata": {},
   "outputs": [
    {
     "data": {
      "text/plain": [
       "[{'src': 'https://datasets-server.huggingface.co/cached-assets/mozilla-foundation/common_voice_16_1/--/8228a37ca8d3c733f5e559cc99e3be9f8de170f9/--/ru/test/0/audio/audio.mp3?Expires=1709707395&Signature=otKKJ3~QRKz87Rmv339YwIVkhqU43nwPDRCBhbtpK2zUJNc8vUsf6iYkrQCVBbE3~Zs6zP29VS6xQzs6ZZX29AeofEEe2LLN51-HGKfcno7ymuyXuTZhLd-F4AxB2u6EO71Va14pc~998Qqqzj367lVZXH2fPE8D-qe2VMNnheW6LNAiVCU7Em7Qnw-19Odk1n~pOLjK1ur~p55faO8jypUOoTqqJ5P41rLWhUdjHE-0tX1jJtc-sfmpsKC59nbaOoT0Ho6WJppqll0z1wbY9RIzS2lcyQ4uxVeDDbNqCQkMyOZm0FHqS0rje9NGVf5~vJ2AyLBQl2Ao5F64C1Zcag__&Key-Pair-Id=K3EI6M078Z3AC3',\n",
       "  'type': 'audio/mpeg'}]"
      ]
     },
     "execution_count": 73,
     "metadata": {},
     "output_type": "execute_result"
    }
   ],
   "source": [
    "data['rows'][0]['row']['audio']"
   ]
  },
  {
   "cell_type": "markdown",
   "metadata": {},
   "source": [
    "Classify downloaded file:"
   ]
  },
  {
   "cell_type": "code",
   "execution_count": 61,
   "metadata": {},
   "outputs": [
    {
     "data": {
      "text/plain": [
       "[{'score': 0.9999922513961792, 'label': 'ru'},\n",
       " {'score': 4.4109392547397874e-06, 'label': 'uz'},\n",
       " {'score': 3.369512569406652e-06, 'label': 'en'}]"
      ]
     },
     "execution_count": 61,
     "metadata": {},
     "output_type": "execute_result"
    }
   ],
   "source": [
    "classifier(\"test_ru_sample.mp3\")"
   ]
  },
  {
   "cell_type": "markdown",
   "metadata": {},
   "source": [
    "Raw audio file also classified right by model."
   ]
  },
  {
   "cell_type": "markdown",
   "metadata": {},
   "source": [
    "### Evaluate model with test dataset"
   ]
  },
  {
   "cell_type": "code",
   "execution_count": 111,
   "metadata": {},
   "outputs": [
    {
     "name": "stderr",
     "output_type": "stream",
     "text": [
      "Reading metadata...: 12341it [00:03, 3246.56it/s]\n",
      "Reading metadata...: 10199it [00:04, 2384.64it/s]\n",
      "Reading metadata...: 16390it [00:03, 4227.52it/s]\n"
     ]
    },
    {
     "data": {
      "text/plain": [
       "{'locale': 'en',\n",
       " 'variant': '',\n",
       " 'input_features': array([[-0.6377468, -0.6377468, -0.6377468, ..., -0.6377468, -0.6377468,\n",
       "         -0.6377468],\n",
       "        [-0.6377468, -0.6377468, -0.6377468, ..., -0.6377468, -0.6377468,\n",
       "         -0.6377468],\n",
       "        [-0.6377468, -0.6377468, -0.6377468, ..., -0.6377468, -0.6377468,\n",
       "         -0.6377468],\n",
       "        ...,\n",
       "        [-0.6377468, -0.6377468, -0.6377468, ..., -0.6377468, -0.6377468,\n",
       "         -0.6377468],\n",
       "        [-0.6377468, -0.6377468, -0.6377468, ..., -0.6377468, -0.6377468,\n",
       "         -0.6377468],\n",
       "        [-0.6377468, -0.6377468, -0.6377468, ..., -0.6377468, -0.6377468,\n",
       "         -0.6377468]], dtype=float32),\n",
       " 'labels': 2}"
      ]
     },
     "execution_count": 111,
     "metadata": {},
     "output_type": "execute_result"
    }
   ],
   "source": [
    "next(iter(common_voice['test']))"
   ]
  },
  {
   "cell_type": "markdown",
   "metadata": {},
   "source": [
    "So far, we have been using mainly transformers library. Sometimes, it was needed to show your ability to write code in native PyTorch :)"
   ]
  },
  {
   "cell_type": "code",
   "execution_count": null,
   "metadata": {},
   "outputs": [],
   "source": [
    "test_size = 1000\n",
    "\n",
    "common_voice_test_uz = common_voice_test_uz.take(test_size).shuffle(seed=seed, buffer_size=test_size)\n",
    "common_voice_test_ru = common_voice_test_ru.take(test_size).shuffle(seed=seed, buffer_size=test_size)\n",
    "common_voice_test_en = common_voice_test_en.take(test_size).shuffle(seed=seed, buffer_size=test_size)"
   ]
  },
  {
   "cell_type": "code",
   "execution_count": null,
   "metadata": {},
   "outputs": [],
   "source": [
    "common_voice_test = concatenate_datasets([common_voice_test_uz, common_voice_test_ru, common_voice_test_en])"
   ]
  },
  {
   "cell_type": "code",
   "execution_count": null,
   "metadata": {},
   "outputs": [],
   "source": [
    "common_voice_test = common_voice_test.shuffle(seed=seed, buffer_size=test_size * 3)"
   ]
  },
  {
   "cell_type": "code",
   "execution_count": 117,
   "metadata": {},
   "outputs": [],
   "source": [
    "common_voice['test'] = common_voice['test'].remove_columns(['locale', 'variant'])"
   ]
  },
  {
   "cell_type": "code",
   "execution_count": 120,
   "metadata": {},
   "outputs": [],
   "source": [
    "from torch.utils.data import DataLoader\n",
    "\n",
    "eval_dataloader = DataLoader(common_voice['test'], batch_size=2)"
   ]
  },
  {
   "cell_type": "code",
   "execution_count": 118,
   "metadata": {},
   "outputs": [
    {
     "name": "stderr",
     "output_type": "stream",
     "text": [
      "\n",
      "\u001b[A\n",
      "Reading metadata...: 12341it [00:02, 5917.81it/s]\n",
      "\n",
      "\u001b[A\n",
      "Reading metadata...: 10199it [00:02, 3768.56it/s]\n",
      "\n",
      "\u001b[A\n",
      "Reading metadata...: 16390it [00:03, 4829.83it/s]\n"
     ]
    },
    {
     "data": {
      "text/plain": [
       "{'input_features': array([[-0.6377468, -0.6377468, -0.6377468, ..., -0.6377468, -0.6377468,\n",
       "         -0.6377468],\n",
       "        [-0.6377468, -0.6377468, -0.6377468, ..., -0.6377468, -0.6377468,\n",
       "         -0.6377468],\n",
       "        [-0.6377468, -0.6377468, -0.6377468, ..., -0.6377468, -0.6377468,\n",
       "         -0.6377468],\n",
       "        ...,\n",
       "        [-0.6377468, -0.6377468, -0.6377468, ..., -0.6377468, -0.6377468,\n",
       "         -0.6377468],\n",
       "        [-0.6377468, -0.6377468, -0.6377468, ..., -0.6377468, -0.6377468,\n",
       "         -0.6377468],\n",
       "        [-0.6377468, -0.6377468, -0.6377468, ..., -0.6377468, -0.6377468,\n",
       "         -0.6377468]], dtype=float32),\n",
       " 'labels': 2}"
      ]
     },
     "execution_count": 118,
     "metadata": {},
     "output_type": "execute_result"
    }
   ],
   "source": [
    "next(iter(common_voice['test']))"
   ]
  },
  {
   "cell_type": "code",
   "execution_count": 122,
   "metadata": {},
   "outputs": [
    {
     "data": {
      "application/vnd.jupyter.widget-view+json": {
       "model_id": "6365f8d1c06c4e6b8cff6426b6ac1b4b",
       "version_major": 2,
       "version_minor": 0
      },
      "text/plain": [
       "  0%|          | 0/1500 [00:00<?, ?it/s]"
      ]
     },
     "metadata": {},
     "output_type": "display_data"
    },
    {
     "name": "stderr",
     "output_type": "stream",
     "text": [
      "\n",
      "\n",
      "\n",
      "\n",
      "\u001b[A\u001b[A\u001b[A\u001b[A\n",
      "\n",
      "\n",
      "\n",
      "Reading metadata...: 12341it [00:04, 3020.62it/s]\n",
      "\n",
      "\n",
      "\n",
      "\n",
      "\u001b[A\u001b[A\u001b[A\u001b[A\n",
      "\n",
      "\n",
      "\n",
      "Reading metadata...: 10199it [00:02, 3752.27it/s]\n",
      "\n",
      "\n",
      "\n",
      "\n",
      "\u001b[A\u001b[A\u001b[A\u001b[A\n",
      "\n",
      "\n",
      "\n",
      "Reading metadata...: 16390it [00:03, 4112.99it/s]\n"
     ]
    },
    {
     "data": {
      "text/plain": [
       "{'accuracy': 0.924}"
      ]
     },
     "execution_count": 122,
     "metadata": {},
     "output_type": "execute_result"
    }
   ],
   "source": [
    "from tqdm.auto import tqdm\n",
    "\n",
    "num_testing_steps = 1500\n",
    "\n",
    "progress_bar = tqdm(range(num_testing_steps))\n",
    "\n",
    "metric = evaluate.load(\"accuracy\")\n",
    "model.eval()\n",
    "for batch in eval_dataloader:\n",
    "    with torch.no_grad():\n",
    "        outputs = model(**batch)\n",
    "\n",
    "    logits = outputs.logits\n",
    "    predictions = torch.argmax(logits, dim=-1)\n",
    "    metric.add_batch(predictions=predictions, references=batch[\"labels\"])\n",
    "    progress_bar.update(1)\n",
    "\n",
    "metric.compute()"
   ]
  },
  {
   "cell_type": "markdown",
   "metadata": {},
   "source": [
    "### Report after evaluation"
   ]
  },
  {
   "cell_type": "markdown",
   "metadata": {},
   "source": [
    "Model achieved an accuracy of 92.4% on the test set, which is a promising result for the audio classification task. However, as with any machine learning model, there is always room for improvement.\n",
    "\n",
    "Strategies for Improving Accuracy\n",
    "To potentially increase the model's accuracy, I am considering the following strategies:\n",
    "\n",
    "1. Data Augmentation: Increasing the size of the training dataset can provide more examples for the model to learn from, which could lead to better generalization. Implementing smart batching strategies can also enhance the learning process.\n",
    "\n",
    "2. Hyperparameter Optimization: Adjusting the training hyperparameters, including exploring different optimizers, can significantly impact model performance. Systematic hyperparameter tuning is essential to find the most effective configurations.\n",
    "\n",
    "3. Model Variations: Exploring different pretrained models as starting points can help identify a model architecture that is more suited to the specifics of our classification task.\n",
    "\n",
    "4. In-depth Model Tuning: Fine-tuning not just the top layers but also the deeper layers of the neural network could lead to better feature extraction and, consequently, higher accuracy.\n",
    "\n",
    "\n",
    "\n",
    "References: \n",
    "- [Optimizing Transformers Models for Peak Performance](https://medium.com/aimonks/optimizing-transformers-models-for-peak-performance-cd6d740d3bf3)\n",
    "- [Large Transformer Model Inference Optimization](https://lilianweng.github.io/posts/2023-01-10-inference-optimization/)"
   ]
  },
  {
   "cell_type": "markdown",
   "metadata": {},
   "source": [
    "[Methods and tools for efficient training on a single GPU](https://huggingface.co/docs/transformers/perf_train_gpu_one)"
   ]
  },
  {
   "cell_type": "markdown",
   "metadata": {},
   "source": [
    "### Training the model in native Pytorch"
   ]
  },
  {
   "cell_type": "code",
   "execution_count": null,
   "metadata": {},
   "outputs": [],
   "source": [
    "# del model\n",
    "# del trainer\n",
    "# torch.cuda.empty_cache()"
   ]
  },
  {
   "cell_type": "code",
   "execution_count": null,
   "metadata": {},
   "outputs": [],
   "source": [
    "# from tqdm.auto import tqdm\n",
    "\n",
    "# progress_bar = tqdm(range(num_training_steps))\n",
    "\n",
    "# model.train()\n",
    "# for epoch in range(num_epochs):\n",
    "#     for batch in train_dataloader:\n",
    "#         batch = {k: v.to(device) for k, v in batch.items()}\n",
    "#         outputs = model(**batch)\n",
    "#         loss = outputs.loss\n",
    "#         loss.backward()\n",
    "\n",
    "#         optimizer.step()\n",
    "#         lr_scheduler.step()\n",
    "#         optimizer.zero_grad()\n",
    "#         progress_bar.update(1)"
   ]
  },
  {
   "cell_type": "markdown",
   "metadata": {},
   "source": [
    "### Bonus"
   ]
  },
  {
   "cell_type": "markdown",
   "metadata": {},
   "source": [
    "#### Audio files visualization"
   ]
  },
  {
   "cell_type": "code",
   "execution_count": 130,
   "metadata": {},
   "outputs": [],
   "source": [
    "import librosa\n",
    "from scipy.signal import butter, filtfilt\n",
    "import numpy as np\n",
    "import os\n",
    "import matplotlib.pyplot as plt"
   ]
  },
  {
   "cell_type": "code",
   "execution_count": 133,
   "metadata": {},
   "outputs": [
    {
     "data": {
      "image/png": "[encoded data removed]",
      "text/plain": [
       "<Figure size 800x400 with 2 Axes>"
      ]
     },
     "metadata": {},
     "output_type": "display_data"
    }
   ],
   "source": [
    "# visualizing log-mel spectrogram\n",
    "def compute_logmel_spectrogram(y, sr, n_mels=128, hop_length=512):\n",
    "    mel_spectrogram = librosa.feature.melspectrogram(y=y, sr=sr, n_mels=n_mels, hop_length=hop_length)\n",
    "    logmel_spectrogram = librosa.power_to_db(mel_spectrogram, ref=np.max)\n",
    "    return logmel_spectrogram\n",
    " \n",
    "# load the audio file\n",
    "audio_file_path = 'test_ru_sample.mp3'\n",
    "target_sr = 16000\n",
    " \n",
    "# Load the audio file\n",
    "y, sr = librosa.load(audio_file_path, sr=target_sr)\n",
    " \n",
    "# Compute log-mel spectrogram\n",
    "logmel_spectrogram = compute_logmel_spectrogram(y, sr=sr)\n",
    " \n",
    "# Display the log-mel spectrogram\n",
    "plt.figure(figsize=(8, 4))\n",
    "librosa.display.specshow(logmel_spectrogram, sr=sr, hop_length=512, x_axis='time', y_axis='mel')\n",
    "plt.colorbar(format='%+2.0f dB')\n",
    "plt.title('Log-Mel Spectrogram')\n",
    "plt.show()"
   ]
  }
 ],
 "metadata": {
  "kernelspec": {
   "display_name": ".venv",
   "language": "python",
   "name": "python3"
  },
  "language_info": {
   "codemirror_mode": {
    "name": "ipython",
    "version": 3
   },
   "file_extension": ".py",
   "mimetype": "text/x-python",
   "name": "python",
   "nbconvert_exporter": "python",
   "pygments_lexer": "ipython3",
   "version": "3.10.12"
  }
 },
 "nbformat": 4,
 "nbformat_minor": 2
}
